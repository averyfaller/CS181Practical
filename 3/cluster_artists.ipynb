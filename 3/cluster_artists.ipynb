{
 "cells": [
  {
   "cell_type": "code",
   "execution_count": 6,
   "metadata": {
    "collapsed": false
   },
   "outputs": [],
   "source": [
    "# Imports\n",
    "import numpy as np\n",
    "import csv\n",
    "import sklearn\n",
    "import pandas as pd\n",
    "from sklearn import cluster\n",
    "\n",
    "# Predict via the user-specific median.\n",
    "# If the user has no data, use the global median.\n",
    "\n",
    "# Hard-code file names\n",
    "# train_file = 'data/train.csv'\n",
    "# test_file  = 'data/test.csv'\n",
    "# soln_file  = 'data/predictions.csv'\n",
    "# profiles_file = 'data/profiles.csv'\n",
    "# artist_file = 'data/artists.csv'\n",
    "artist_tags_file = 'data/artists_tagged.csv'"
   ]
  },
  {
   "cell_type": "code",
   "execution_count": 2,
   "metadata": {
    "collapsed": false
   },
   "outputs": [],
   "source": [
    "# Load the artist data.\n",
    "artist_names = {}\n",
    "artist_ids = []\n",
    "\n",
    "df = pd.read_csv(artist_tags_file)\n",
    "\n",
    "# print all rappers\n",
    "# print df[(df.rap > 0)].name.tolist()"
   ]
  },
  {
   "cell_type": "code",
   "execution_count": 3,
   "metadata": {
    "collapsed": false
   },
   "outputs": [],
   "source": [
    "tags = df.ix[:,2:-1]"
   ]
  },
  {
   "cell_type": "code",
   "execution_count": 7,
   "metadata": {
    "collapsed": false
   },
   "outputs": [],
   "source": [
    "KM = sklearn.cluster.KMeans(n_clusters=50, init='k-means++', n_init=10, max_iter=3000, tol=0.0001, precompute_distances='auto', verbose=0, random_state=37)\n",
    "# Calls fit and then predict\n",
    "predict = KM.fit_predict(tags)"
   ]
  },
  {
   "cell_type": "code",
   "execution_count": 8,
   "metadata": {
    "collapsed": false
   },
   "outputs": [
    {
     "name": "stdout",
     "output_type": "stream",
     "text": [
      "30\n",
      "                         name  prediction\n",
      "51          Story of the Year          37\n",
      "104       Panic! at the Disco          37\n",
      "204         Matchbook Romance          37\n",
      "231       Something Corporate          37\n",
      "343             Alkaline Trio          37\n",
      "465               Kill Hannah          37\n",
      "471                    O.A.R.          37\n",
      "553                 Sugarcult          37\n",
      "554                    Cartel          37\n",
      "634   Cute Is What We Aim For          37\n",
      "637    Motion City Soundtrack          37\n",
      "685        Coheed and Cambria          37\n",
      "731             Saves the Day          37\n",
      "735        The Early November          37\n",
      "951              hellogoodbye          37\n",
      "1043         The Spill Canvas          37\n",
      "1047              Senses Fail          37\n",
      "1087       Taking Back Sunday          37\n",
      "1209          Armor for Sleep          37\n",
      "1243                Fightstar          37\n",
      "1272                  Bayside          37\n",
      "1274                 The Used          37\n",
      "1398     Sportfreunde Stiller          37\n",
      "1493          Jimmy Eat World          37\n",
      "1557         Jack's Mannequin          37\n",
      "1638        The Academy Is...          37\n",
      "1664               Acceptance          37\n",
      "1784            Circa Survive          37\n",
      "1861      My Chemical Romance          37\n",
      "1941          Plain White T's          37\n"
     ]
    }
   ],
   "source": [
    "# pd.concat([df.ix[:,0:2], pd.DataFrame(predict, columns=['prediction'])],axis=1)\n",
    "new_df = pd.concat([df, pd.DataFrame(predict, columns=['prediction'])], axis=1)\n",
    "\n",
    "filtered_df = new_df[new_df.prediction == 37]\n",
    "print len(filtered_df)\n",
    "print pd.concat([filtered_df.name, filtered_df.prediction],axis=1)"
   ]
  },
  {
   "cell_type": "code",
   "execution_count": 17,
   "metadata": {
    "collapsed": false
   },
   "outputs": [],
   "source": [
    "output_df = pd.concat([new_df['artist'], new_df['name'], new_df['prediction']], axis=1)\n",
    "output_df.to_csv('data/artists_clustered.csv')"
   ]
  },
  {
   "cell_type": "code",
   "execution_count": null,
   "metadata": {
    "collapsed": true
   },
   "outputs": [],
   "source": []
  }
 ],
 "metadata": {
  "kernelspec": {
   "display_name": "Python 2",
   "language": "python",
   "name": "python2"
  },
  "language_info": {
   "codemirror_mode": {
    "name": "ipython",
    "version": 2
   },
   "file_extension": ".py",
   "mimetype": "text/x-python",
   "name": "python",
   "nbconvert_exporter": "python",
   "pygments_lexer": "ipython2",
   "version": "2.7.11"
  }
 },
 "nbformat": 4,
 "nbformat_minor": 0
}
