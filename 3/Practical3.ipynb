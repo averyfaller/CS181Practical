{
 "cells": [
  {
   "cell_type": "code",
   "execution_count": 14,
   "metadata": {
    "collapsed": false
   },
   "outputs": [],
   "source": [
    "# Imports\n",
    "import numpy as np\n",
    "import csv\n",
    "from sklearn import *\n",
    "\n",
    "# Predict via the user-specific median.\n",
    "# If the user has no data, use the global median.\n",
    "\n",
    "# Hard-code file names\n",
    "train_file = 'train.csv'\n",
    "test_file  = 'test.csv'\n",
    "soln_file  = 'predictions.csv'\n",
    "profiles_file = 'profiles.csv'"
   ]
  },
  {
   "cell_type": "code",
   "execution_count": 26,
   "metadata": {
    "collapsed": false
   },
   "outputs": [
    {
     "name": "stdout",
     "output_type": "stream",
     "text": [
      "233286\n"
     ]
    }
   ],
   "source": [
    "# Load the profile data.\n",
    "profile_data = {}\n",
    "user_ids = []\n",
    "\n",
    "with open(profiles_file, 'r') as profile_fh:\n",
    "    profile_csv = csv.reader(profile_fh, delimiter=',', quotechar='\"')\n",
    "    next(profile_csv, None)\n",
    "    for row in profile_csv:\n",
    "        # user,sex,age,country\n",
    "        user    = row[0]\n",
    "        sex     = row[1]\n",
    "        age     = row[2]\n",
    "        country = row[3]\n",
    "\n",
    "        if age == '':\n",
    "            age = -1\n",
    "        if sex == '':\n",
    "            sex = 'u'\n",
    "    \n",
    "        if not user in profile_data:\n",
    "            profile_data[user] = {}\n",
    "            user_ids.append(user)\n",
    "        \n",
    "        profile_data[user]['sex'] = sex\n",
    "        profile_data[user]['age'] = int(age)\n",
    "        profile_data[user]['country'] = country\n",
    "\n",
    "print len(user_ids)"
   ]
  },
  {
   "cell_type": "code",
   "execution_count": 29,
   "metadata": {
    "collapsed": false
   },
   "outputs": [
    {
     "name": "stdout",
     "output_type": "stream",
     "text": [
      "Number of users in profiles: 233286\n",
      "\n",
      "{'country': 'Iceland', 'age': 29, 'sex': 'm'}\n",
      "{'country': 'United States', 'age': 30, 'sex': 'm'}\n",
      "{'country': 'Germany', 'age': 21, 'sex': 'm'}\n",
      "{'country': 'Netherlands', 'age': 24, 'sex': 'm'}\n",
      "{'country': 'United States', 'age': 22, 'sex': 'm'}\n",
      "{'country': 'United States', 'age': -1, 'sex': 'f'}\n",
      "{'country': 'Poland', 'age': -1, 'sex': 'f'}\n",
      "{'country': 'United States', 'age': -1, 'sex': 'm'}\n",
      "{'country': 'Ukraine', 'age': 16, 'sex': 'u'}\n",
      "{'country': 'Italy', 'age': 44, 'sex': 'm'}\n",
      "{'country': 'Russian Federation', 'age': 17, 'sex': 'm'}\n",
      "{'country': 'Germany', 'age': 25, 'sex': 'm'}\n",
      "{'country': 'Austria', 'age': 24, 'sex': 'm'}\n",
      "{'country': 'Australia', 'age': 22, 'sex': 'f'}\n",
      "{'country': 'Germany', 'age': 34, 'sex': 'm'}\n",
      "{'country': 'United States', 'age': -1, 'sex': 'm'}\n",
      "{'country': 'United States', 'age': 22, 'sex': 'm'}\n",
      "{'country': 'Canada', 'age': 22, 'sex': 'm'}\n",
      "{'country': 'Germany', 'age': -1, 'sex': 'm'}\n"
     ]
    }
   ],
   "source": [
    "print \"Number of users in profiles: \" + str(len(user_ids))\n",
    "print \"\"\n",
    "for user_id in user_ids[1:20]:\n",
    "    print profile_data[user_id]"
   ]
  },
  {
   "cell_type": "code",
   "execution_count": 42,
   "metadata": {
    "collapsed": false
   },
   "outputs": [],
   "source": [
    "# Create indicator variables\n",
    "columns = ['i_MALE','i_FEMALE','AGE']\n",
    "ages = []\n",
    "for user_id in user_ids:\n",
    "    country = profile_data[user_id]['country']\n",
    "    if country not in columns:\n",
    "        columns.append(country)\n",
    "    ages.append(profile_data[user_id]['age'])\n",
    "\n",
    "# Calc the mean age\n",
    "mean_age = np.mean(ages)\n",
    "    \n",
    "# Construct matrix\n",
    "profile_matrix = np.zeros((len(user_ids), len(columns)))\n",
    "for i, user_id in enumerate(user_ids):\n",
    "    profile = profile_data[user_id]\n",
    "\n",
    "    # Create indicator variable for MALE\n",
    "    if profile['sex'] == 'm':\n",
    "        profile_matrix[i, 0] = 1\n",
    "    # Create indicator variable for FEMALE    \n",
    "    elif profile['sex'] == 'f':\n",
    "        profile_matrix[i, 1] = 1\n",
    "        \n",
    "    # Add a 1 for the country indicator\n",
    "    country = profile['country']\n",
    "    country_col = columns.index(country)\n",
    "    profile_matrix[i, country_col] = 1\n",
    "\n",
    "    # TODO: Calculate median age, replace nulls with \n",
    "    # TODO: Separate ages into 5 year indicator columns\n",
    "    \n",
    "    # Add age\n",
    "    profile_matrix[i, 2] = profile['age']"
   ]
  },
  {
   "cell_type": "code",
   "execution_count": 75,
   "metadata": {
    "collapsed": true
   },
   "outputs": [],
   "source": [
    "user_pos_by_id = {}\n",
    "for i, user_id in enumerate(user_ids):\n",
    "    user_pos_by_id[user_id] = i"
   ]
  },
  {
   "cell_type": "code",
   "execution_count": 44,
   "metadata": {
    "collapsed": false
   },
   "outputs": [
    {
     "data": {
      "text/plain": [
       "array([[  1.,   0.,  29., ...,   0.,   0.,   0.],\n",
       "       [  1.,   0.,  30., ...,   0.,   0.,   0.],\n",
       "       [  1.,   0.,  21., ...,   0.,   0.,   0.],\n",
       "       ..., \n",
       "       [  0.,   1.,  -1., ...,   0.,   0.,   0.],\n",
       "       [  1.,   0.,  -1., ...,   0.,   0.,   0.],\n",
       "       [  0.,   0.,  16., ...,   0.,   0.,   0.]])"
      ]
     },
     "execution_count": 44,
     "metadata": {},
     "output_type": "execute_result"
    }
   ],
   "source": [
    "# Examine the data\n",
    "profile_matrix.shape\n",
    "profile_matrix[1:10]"
   ]
  },
  {
   "cell_type": "code",
   "execution_count": 59,
   "metadata": {
    "collapsed": false
   },
   "outputs": [],
   "source": [
    "# Load the training data.\n",
    "train_data = {}\n",
    "train_user_ids = []\n",
    "\n",
    "# TRAIN-TEST SPLIT FOR TESTING PURPOSES\n",
    "# Need to split on a per-user-artist level, not just per-user level\n",
    "train_train_data = {}\n",
    "train_test_data = {}\n",
    "\n",
    "with open(train_file, 'r') as train_fh:\n",
    "    train_csv = csv.reader(train_fh, delimiter=',', quotechar='\"')\n",
    "    next(train_csv, None)\n",
    "    for row in train_csv:\n",
    "        user   = row[0]\n",
    "        artist = row[1]\n",
    "        plays  = row[2]\n",
    "    \n",
    "        if not user in train_data:\n",
    "            train_data[user] = {}\n",
    "            train_user_ids.append(user)\n",
    "        \n",
    "        train_data[user][artist] = int(plays)\n",
    "        \n",
    "        # Build train and test split\n",
    "        if np.random.uniform(0,1,1) < .75:\n",
    "            if not user in train_train_data:\n",
    "                train_train_data[user] = {}\n",
    "            train_train_data[user][artist] = int(plays)\n",
    "        else:\n",
    "            if not user in train_test_data:\n",
    "                train_test_data[user] = {}\n",
    "            train_test_data[user][artist] = int(plays)"
   ]
  },
  {
   "cell_type": "code",
   "execution_count": 8,
   "metadata": {
    "collapsed": false
   },
   "outputs": [
    {
     "name": "stdout",
     "output_type": "stream",
     "text": [
      "Number of users in train: 233286\n",
      "\n",
      "{'e3e0abcd-7671-4482-a9d8-462f5acc9be5': 64, '63011a8d-0117-4f7e-9991-1ef1f337ff70': 13, 'f4857fb9-e255-4dc6-bd01-e4ca7cc68544': 21, 'c485632c-b784-4ee9-8ea1-c5fb365681fc': 45, 'a96ac800-bfcb-412a-8a63-0a98df600700': 35, '8dd98bdc-80ec-4e93-8509-2f46bafc09a7': 23, '69837400-8e31-4949-aac2-00b46b4df126': 18, 'a3a92047-be1c-4f3e-8960-c4f8570984df': 81, '648615ca-ca74-460d-928a-2bae67ae6d14': 19, '0110e63e-0a9b-4818-af8e-41e180c20b9a': 22, '6ffb8ea9-2370-44d8-b678-e9237bbd347b': 56, '9fdaa16b-a6c4-4831-b87c-bc9ca8ce7eaa': 20, '5441c29d-3602-4898-b1a1-b77fa23b8e50': 70, '9bf79f68-c064-44a1-8c2c-5764f1d7c016': 27, '4a4ee089-93b1-4470-af9a-6ff575d32704': 31, '9efff43b-3b29-4082-824e-bc82f646f93d': 22}\n",
      "{'8d18b680-368c-4649-a5e3-85e0c2dd6fc2': 51, 'a4a3048f-3968-4848-9f53-94e3d4f88b53': 47, '6ffb8ea9-2370-44d8-b678-e9237bbd347b': 86, '9c9f1380-2516-4fc9-a3e6-f9f61941d090': 145, 'eeb1195b-f213-4ce1-b28c-8565211f8e43': 708, '24ea074c-59cc-41c5-a5de-f68c2952965f': 135, '83e59f23-3b0b-4304-834d-5bcafd5df6d2': 65, 'be407b02-f3e6-4ed5-9489-f8e5f0ab36dc': 74, '487bfd74-71bf-46dd-b89c-80b7a0f06f2f': 120, '11ae9fbb-f3d7-4a47-936f-4c0a04d3b3b5': 455, 'b2dbfc09-b332-408b-a235-1850e41971c5': 98, 'eb3f70ce-f226-428f-8d7f-046c8dbfd98f': 271, '9a04dc8c-82f1-457a-a25a-3ff19e1b471e': 192, 'b09b5127-c62e-4bb2-b790-1e4aa18749ed': 113, 'ca5b38c2-f39d-45a4-ad3d-daf4448846ef': 57, 'ada7a83c-e3e1-40f1-93f9-3e73dbc9298a': 49, '66c662b6-6e2f-4930-8610-912e24c63ed1': 1679, 'dcb03ce3-67a5-4eb3-b2d1-2a12d93a38f3': 45, '72ae6caf-4f9f-407e-8c70-8cd195df955c': 164, '14b22b4b-06d5-4b82-8284-29d29b58945f': 77}\n"
     ]
    }
   ],
   "source": [
    "# Examine the data\n",
    "print \"Number of users in train: \" + str(len(train_user_ids))\n",
    "print \"\"\n",
    "for user_id in train_user_ids[1:3]:\n",
    "    print train_data[user_id]"
   ]
  },
  {
   "cell_type": "code",
   "execution_count": 67,
   "metadata": {
    "collapsed": false
   },
   "outputs": [
    {
     "name": "stdout",
     "output_type": "stream",
     "text": [
      "1039494\n"
     ]
    }
   ],
   "source": [
    "# CALCULATE THE NUMBER OF SONGS WE ARE ESTIMATING IN OUR TRIAN_TEST SAMPLE\n",
    "num_songs_estimating = 0\n",
    "\n",
    "for user, user_data in train_test_data.iteritems():\n",
    "    for artist, plays in user_data.iteritems():\n",
    "        num_songs_estimating += 1\n",
    "        \n",
    "print num_songs_estimating"
   ]
  },
  {
   "cell_type": "markdown",
   "metadata": {},
   "source": [
    "## KMeans - Let's Cluster the Users"
   ]
  },
  {
   "cell_type": "code",
   "execution_count": 85,
   "metadata": {
    "collapsed": true
   },
   "outputs": [],
   "source": [
    "KM = sklearn.cluster.KMeans(n_clusters=50, init='k-means++', n_init=10, max_iter=300, tol=0.0001, precompute_distances='auto', verbose=0, random_state=37)\n",
    "# Calls fit and then predict\n",
    "predict = KM.fit_predict(profile_matrix)"
   ]
  },
  {
   "cell_type": "code",
   "execution_count": 86,
   "metadata": {
    "collapsed": false
   },
   "outputs": [
    {
     "name": "stdout",
     "output_type": "stream",
     "text": [
      "The objective function: -258989.198517\n"
     ]
    }
   ],
   "source": [
    "print \"The objective function: %f\" % KM.score(profile_matrix) "
   ]
  },
  {
   "cell_type": "code",
   "execution_count": 54,
   "metadata": {
    "collapsed": false
   },
   "outputs": [
    {
     "name": "stdout",
     "output_type": "stream",
     "text": [
      "[3 3 7 8 7 2 2 2 0]\n"
     ]
    }
   ],
   "source": [
    "# Examine the predicted clusters\n",
    "print predict[1:10]"
   ]
  },
  {
   "cell_type": "markdown",
   "metadata": {},
   "source": [
    "## Keep track of score\n",
    "\n",
    "10 clusters\n",
    "Indicators for basic params: -948858.492895\n",
    "\n",
    "20 clusters\n",
    "Indicatros for basic params: -448359.382828"
   ]
  },
  {
   "cell_type": "markdown",
   "metadata": {},
   "source": [
    "## Test different techniques\n",
    "\n",
    "### GLOBAL & PER-USER MEDIANS (GIVEN)"
   ]
  },
  {
   "cell_type": "code",
   "execution_count": 65,
   "metadata": {
    "collapsed": false
   },
   "outputs": [
    {
     "name": "stdout",
     "output_type": "stream",
     "text": [
      "User 1c38bd41dbb223394a0639fc401f47435a5d6aec not in train_train data.\n",
      "User 1c38bd41dbb223394a0639fc401f47435a5d6aec not in train_train data.\n",
      "User 1c38bd41dbb223394a0639fc401f47435a5d6aec not in train_train data.\n",
      "User 1c38bd41dbb223394a0639fc401f47435a5d6aec not in train_train data.\n",
      "User 1c38bd41dbb223394a0639fc401f47435a5d6aec not in train_train data.\n",
      "User 1c38bd41dbb223394a0639fc401f47435a5d6aec not in train_train data.\n",
      "User 1c38bd41dbb223394a0639fc401f47435a5d6aec not in train_train data.\n",
      "MEAN ABSOLUTE ERROR 140.056850\n"
     ]
    }
   ],
   "source": [
    "abs_error = 0\n",
    "\n",
    "# TEST WITH GLOBAL and per-USER MEDIAN (GIVEN)\n",
    "# Compute the global median and per-user median.\n",
    "plays_array  = []\n",
    "user_medians = {}\n",
    "for user, user_data in train_train_data.iteritems():\n",
    "    user_plays = []\n",
    "    for artist, plays in user_data.iteritems():\n",
    "        plays_array.append(plays)\n",
    "        user_plays.append(plays)\n",
    "\n",
    "    user_medians[user] = np.median(np.array(user_plays))\n",
    "global_median = np.median(np.array(plays_array))\n",
    "\n",
    "for user, user_data in train_test_data.iteritems():\n",
    "    for artist, plays in user_data.iteritems():\n",
    "        if user in user_medians:\n",
    "            abs_error += abs(user_medians[user] - plays)\n",
    "        else:\n",
    "            print \"User\", user, \"not in train_train data.\"\n",
    "            abs_error += abs(global_median - plays)\n",
    "            \n",
    "print \"MEAN ABSOLUTE ERROR %f\" % (abs_error / num_songs_estimating)"
   ]
  },
  {
   "cell_type": "markdown",
   "metadata": {},
   "source": [
    "### KMEANS CLUSTERING"
   ]
  },
  {
   "cell_type": "code",
   "execution_count": 81,
   "metadata": {
    "collapsed": false
   },
   "outputs": [
    {
     "name": "stdout",
     "output_type": "stream",
     "text": [
      "Finished setting up cluster author play dictionary, running test now\n",
      "MEAN ABSOLUTE ERROR 199.005376\n"
     ]
    }
   ],
   "source": [
    "abs_error = 0\n",
    "\n",
    "cluster_artist_plays = {}\n",
    "\n",
    "for user, user_data in train_train_data.iteritems():\n",
    "    cluster_id = predict[user_pos_by_id[user]]\n",
    "    for artist, plays in user_data.iteritems():\n",
    "        if cluster_id not in cluster_artist_plays:\n",
    "            cluster_artist_plays[cluster_id] = {}\n",
    "        \n",
    "        if artist not in cluster_artist_plays[cluster_id]:\n",
    "            cluster_artist_plays[cluster_id][artist] = []\n",
    "        \n",
    "        cluster_artist_plays[cluster_id][artist].append(plays)\n",
    "\n",
    "print \"Finished setting up cluster author play dictionary, running test now\"\n",
    "\n",
    "# Precalculate the cluster-artist medians\n",
    "cluster_artist_medians = {}\n",
    "for cluster_id, cluster_data in cluster_artist_plays.iteritems():\n",
    "    artist_medians = {}\n",
    "    for artist, plays in cluster_data.iteritems():\n",
    "        artist_medians[artist] = np.median(plays)\n",
    "    cluster_artist_medians[cluster_id] = artist_medians\n",
    "\n",
    "for user, user_data in train_test_data.iteritems():\n",
    "    for artist, plays in user_data.iteritems():\n",
    "        cluster_id = predict[user_pos_by_id[user]]\n",
    "        \n",
    "        if artist in cluster_artist_plays[cluster_id]:\n",
    "            abs_error += abs(np.median(cluster_artist_plays[cluster_id][artist]) - plays)\n",
    "        elif user in user_medians:\n",
    "            abs_error += abs(user_medians[user] - plays)\n",
    "        else:\n",
    "            print \"User\", user, \"not in train_train data.\"\n",
    "            abs_error += abs(global_median - plays)\n",
    "            #print \"Cluster+Artist: \", cluster_id, artist, \"not in train_train data.\"\n",
    "            #abs_error += abs(0 - plays)\n",
    "            \n",
    "print \"MEAN ABSOLUTE ERROR %f\" % (abs_error / num_songs_estimating)"
   ]
  },
  {
   "cell_type": "code",
   "execution_count": 87,
   "metadata": {
    "collapsed": false
   },
   "outputs": [
    {
     "name": "stdout",
     "output_type": "stream",
     "text": [
      "Finished setting up cluster author play dictionary, running test now\n",
      "MEAN ABSOLUTE ERROR 153.856717\n"
     ]
    }
   ],
   "source": [
    "abs_error = 0\n",
    "\n",
    "cluster_artist_plays = {}\n",
    "\n",
    "# The median number of per user per cluster\n",
    "cluster_user_plays = {}\n",
    "\n",
    "# The cluster medians\n",
    "cluster_medians = {}\n",
    "\n",
    "user_medians = {}\n",
    "\n",
    "for user, user_data in train_train_data.iteritems():\n",
    "    cluster_id = predict[user_pos_by_id[user]]\n",
    "    user_plays = []\n",
    "    for artist, plays in user_data.iteritems():\n",
    "        if cluster_id not in cluster_artist_plays:\n",
    "            cluster_artist_plays[cluster_id] = {}\n",
    "        \n",
    "        if artist not in cluster_artist_plays[cluster_id]:\n",
    "            cluster_artist_plays[cluster_id][artist] = []\n",
    "        \n",
    "        cluster_artist_plays[cluster_id][artist].append(plays)\n",
    "\n",
    "        user_plays.append(plays)\n",
    "\n",
    "    median = np.median(np.array(user_plays))\n",
    "    user_medians[user] = median\n",
    "    if cluster_id not in cluster_user_plays:\n",
    "        cluster_user_plays[cluster_id] = []\n",
    "    cluster_user_plays[cluster_id].append(median) \n",
    "    \n",
    "# Calculate per-cluster user median\n",
    "for cluster_id, user_plays in cluster_user_plays.iteritems():\n",
    "    cluster_medians[cluster_id] = np.median(user_plays)\n",
    "    \n",
    "user_ratios = {}\n",
    "    \n",
    "# Calculate the user-cluster play ratios\n",
    "for user_id, median_plays in user_medians.iteritems():\n",
    "    cluster_id = predict[user_pos_by_id[user_id]]\n",
    "    user_ratios[user_id] = 1.0 * median_plays / cluster_medians[cluster_id]\n",
    "        \n",
    "print \"Finished setting up cluster author play dictionary, running test now\"\n",
    "\n",
    "# Precalculate the cluster-artist medians\n",
    "cluster_artist_medians = {}\n",
    "for cluster_id, cluster_data in cluster_artist_plays.iteritems():\n",
    "    artist_medians = {}\n",
    "    for artist, plays in cluster_data.iteritems():\n",
    "        artist_medians[artist] = np.median(plays)\n",
    "    cluster_artist_medians[cluster_id] = artist_medians\n",
    "\n",
    "for user, user_data in train_test_data.iteritems():\n",
    "    for artist, plays in user_data.iteritems():\n",
    "        cluster_id = predict[user_pos_by_id[user]]\n",
    "        if artist in cluster_artist_plays[cluster_id]:\n",
    "            user_ratio = 1.0\n",
    "            if user in user_ratios:\n",
    "                user_ratio = user_ratios[user]\n",
    "            prediction = user_ratio * cluster_artist_medians[cluster_id][artist]\n",
    "            abs_error += abs(prediction - plays)\n",
    "        elif user in user_medians:\n",
    "            abs_error += abs(user_medians[user] - plays)\n",
    "        else:\n",
    "            print \"User\", user, \"not in train_train data.\"\n",
    "            abs_error += abs(global_median - plays)\n",
    "            #print \"Cluster+Artist: \", cluster_id, artist, \"not in train_train data.\"\n",
    "            #abs_error += abs(0 - plays)\n",
    "            \n",
    "print \"MEAN ABSOLUTE ERROR %f\" % (abs_error / num_songs_estimating)"
   ]
  },
  {
   "cell_type": "markdown",
   "metadata": {},
   "source": [
    "# MEAN ABSOLUTE ERROR\n",
    "\n",
    "Global + Per-User (Given): 140.056850\n",
    "\n",
    "KMeans (10 clusters): 198.894616\n",
    "\n",
    "KMeans (20 clusters): 199.083787\n",
    "KMeans (20 clusters) + user + global: 199.005376\n",
    "\n",
    "KMeans (20 clusters) + per-user ratio: 149.274154\n",
    "\n",
    "KMeans (50 clusters) + per-user ratio: 153.856717"
   ]
  },
  {
   "cell_type": "markdown",
   "metadata": {},
   "source": [
    "## OUTPUT"
   ]
  },
  {
   "cell_type": "code",
   "execution_count": 30,
   "metadata": {
    "collapsed": true
   },
   "outputs": [],
   "source": [
    "# Compute the global median and per-user median.\n",
    "plays_array  = []\n",
    "user_medians = {}\n",
    "for user, user_data in train_data.iteritems():\n",
    "    user_plays = []\n",
    "    for artist, plays in user_data.iteritems():\n",
    "        plays_array.append(plays)\n",
    "        user_plays.append(plays)\n",
    "\n",
    "    user_medians[user] = np.median(np.array(user_plays))\n",
    "global_median = np.median(np.array(plays_array))\n",
    "\n",
    "# Write out test solutions.\n",
    "with open(test_file, 'r') as test_fh:\n",
    "    test_csv = csv.reader(test_fh, delimiter=',', quotechar='\"')\n",
    "    next(test_csv, None)\n",
    "\n",
    "    with open(soln_file, 'w') as soln_fh:\n",
    "        soln_csv = csv.writer(soln_fh,\n",
    "                              delimiter=',',\n",
    "                              quotechar='\"',\n",
    "                              quoting=csv.QUOTE_MINIMAL)\n",
    "        soln_csv.writerow(['Id', 'plays'])\n",
    "\n",
    "        for row in test_csv:\n",
    "            id     = row[0]\n",
    "            user   = row[1]\n",
    "            artist = row[2]\n",
    "\n",
    "            if user in user_medians:\n",
    "                soln_csv.writerow([id, user_medians[user]])\n",
    "            else:\n",
    "                print \"User\", id, \"not in training data.\"\n",
    "                soln_csv.writerow([id, global_median])\n",
    "                "
   ]
  },
  {
   "cell_type": "code",
   "execution_count": null,
   "metadata": {
    "collapsed": true
   },
   "outputs": [],
   "source": []
  }
 ],
 "metadata": {
  "kernelspec": {
   "display_name": "Python 2",
   "language": "python",
   "name": "python2"
  },
  "language_info": {
   "codemirror_mode": {
    "name": "ipython",
    "version": 2
   },
   "file_extension": ".py",
   "mimetype": "text/x-python",
   "name": "python",
   "nbconvert_exporter": "python",
   "pygments_lexer": "ipython2",
   "version": "2.7.11"
  }
 },
 "nbformat": 4,
 "nbformat_minor": 0
}
