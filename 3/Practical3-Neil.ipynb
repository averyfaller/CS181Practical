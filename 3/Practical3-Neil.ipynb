{
 "cells": [
  {
   "cell_type": "code",
   "execution_count": 2,
   "metadata": {
    "collapsed": false
   },
   "outputs": [],
   "source": [
    "%matplotlib inline\n",
    "# Imports\n",
    "import numpy as np\n",
    "import csv\n",
    "from sklearn import *\n",
    "import pandas as pd\n",
    "import matplotlib.pyplot as plt\n",
    "\n",
    "\n",
    "# Predict via the user-specific median.\n",
    "# If the user has no data, use the global median.\n",
    "\n",
    "# Hard-code file names\n",
    "train_file = 'train.csv'\n",
    "test_file  = 'test.csv'\n",
    "soln_file  = 'predictions.csv'\n",
    "profiles_file = 'profiles.csv'\n",
    "artists_file = 'artists.csv'"
   ]
  },
  {
   "cell_type": "code",
   "execution_count": 3,
   "metadata": {
    "collapsed": false
   },
   "outputs": [
    {
     "name": "stdout",
     "output_type": "stream",
     "text": [
      "233286\n"
     ]
    }
   ],
   "source": [
    "# Load the profile data.\n",
    "profile_data = {}\n",
    "user_ids = []\n",
    "\n",
    "with open(profiles_file, 'r') as profile_fh:\n",
    "    profile_csv = csv.reader(profile_fh, delimiter=',', quotechar='\"')\n",
    "    next(profile_csv, None)\n",
    "    for row in profile_csv:\n",
    "        # user,sex,age,country\n",
    "        user    = row[0]\n",
    "        sex     = row[1]\n",
    "        age     = row[2]\n",
    "        country = row[3]\n",
    "\n",
    "        if age == '':\n",
    "            age = -1\n",
    "        if sex == '':\n",
    "            sex = 'u'\n",
    "    \n",
    "        if not user in profile_data:\n",
    "            profile_data[user] = {}\n",
    "            user_ids.append(user)\n",
    "        \n",
    "        profile_data[user]['sex'] = sex\n",
    "        profile_data[user]['age'] = int(age)\n",
    "        profile_data[user]['country'] = country\n",
    "\n",
    "print len(user_ids)"
   ]
  },
  {
   "cell_type": "code",
   "execution_count": 5,
   "metadata": {
    "collapsed": false
   },
   "outputs": [
    {
     "name": "stdout",
     "output_type": "stream",
     "text": [
      "Number of users in profiles: 233286\n",
      "\n",
      "{'country': 'Iceland', 'age': 29, 'sex': 'm'}\n",
      "{'country': 'United States', 'age': 30, 'sex': 'm'}\n",
      "{'country': 'Germany', 'age': 21, 'sex': 'm'}\n",
      "{'country': 'Netherlands', 'age': 24, 'sex': 'm'}\n",
      "{'country': 'United States', 'age': 22, 'sex': 'm'}\n",
      "{'country': 'United States', 'age': -1, 'sex': 'f'}\n",
      "{'country': 'Poland', 'age': -1, 'sex': 'f'}\n",
      "{'country': 'United States', 'age': -1, 'sex': 'm'}\n",
      "{'country': 'Ukraine', 'age': 16, 'sex': 'u'}\n",
      "{'country': 'Italy', 'age': 44, 'sex': 'm'}\n",
      "{'country': 'Russian Federation', 'age': 17, 'sex': 'm'}\n",
      "{'country': 'Germany', 'age': 25, 'sex': 'm'}\n",
      "{'country': 'Austria', 'age': 24, 'sex': 'm'}\n",
      "{'country': 'Australia', 'age': 22, 'sex': 'f'}\n",
      "{'country': 'Germany', 'age': 34, 'sex': 'm'}\n",
      "{'country': 'United States', 'age': -1, 'sex': 'm'}\n",
      "{'country': 'United States', 'age': 22, 'sex': 'm'}\n",
      "{'country': 'Canada', 'age': 22, 'sex': 'm'}\n",
      "{'country': 'Germany', 'age': -1, 'sex': 'm'}\n"
     ]
    }
   ],
   "source": [
    "print \"Number of users in profiles: \" + str(len(user_ids))\n",
    "print \"\"\n",
    "for user_id in user_ids[1:20]:\n",
    "    print profile_data[user_id]"
   ]
  },
  {
   "cell_type": "code",
   "execution_count": 3,
   "metadata": {
    "collapsed": false
   },
   "outputs": [],
   "source": [
    "# Create indicator variables\n",
    "columns = ['i_MALE','i_FEMALE','AGE']\n",
    "ages = []\n",
    "for user_id in user_ids:\n",
    "    country = profile_data[user_id]['country']\n",
    "    if country not in columns:\n",
    "        columns.append(country)\n",
    "    ages.append(profile_data[user_id]['age'])\n",
    "\n",
    "# Calc the mean age\n",
    "mean_age = np.mean(ages)\n",
    "    \n",
    "# Construct matrix\n",
    "profile_matrix = np.zeros((len(user_ids), len(columns)))\n",
    "for i, user_id in enumerate(user_ids):\n",
    "    profile = profile_data[user_id]\n",
    "\n",
    "    # Create indicator variable for MALE\n",
    "    if profile['sex'] == 'm':\n",
    "        profile_matrix[i, 0] = 1\n",
    "    # Create indicator variable for FEMALE    \n",
    "    elif profile['sex'] == 'f':\n",
    "        profile_matrix[i, 1] = 1\n",
    "        \n",
    "    # Add a 1 for the country indicator\n",
    "    country = profile['country']\n",
    "    country_col = columns.index(country)\n",
    "    profile_matrix[i, country_col] = 1\n",
    "\n",
    "    # TODO: Calculate median age, replace nulls with \n",
    "    # TODO: Separate ages into 5 year indicator columns\n",
    "    \n",
    "    # Add age\n",
    "    profile_matrix[i, 2] = profile['age']"
   ]
  },
  {
   "cell_type": "code",
   "execution_count": 7,
   "metadata": {
    "collapsed": true
   },
   "outputs": [],
   "source": [
    "user_pos_by_id = {}\n",
    "for i, user_id in enumerate(user_ids):\n",
    "    user_pos_by_id[user_id] = i"
   ]
  },
  {
   "cell_type": "code",
   "execution_count": 5,
   "metadata": {
    "collapsed": false
   },
   "outputs": [
    {
     "data": {
      "text/plain": [
       "array([[  1.,   0.,  29., ...,   0.,   0.,   0.],\n",
       "       [  1.,   0.,  30., ...,   0.,   0.,   0.],\n",
       "       [  1.,   0.,  21., ...,   0.,   0.,   0.],\n",
       "       ..., \n",
       "       [  0.,   1.,  -1., ...,   0.,   0.,   0.],\n",
       "       [  1.,   0.,  -1., ...,   0.,   0.,   0.],\n",
       "       [  0.,   0.,  16., ...,   0.,   0.,   0.]])"
      ]
     },
     "execution_count": 5,
     "metadata": {},
     "output_type": "execute_result"
    }
   ],
   "source": [
    "# Examine the data\n",
    "profile_matrix.shape\n",
    "profile_matrix[1:10]"
   ]
  },
  {
   "cell_type": "code",
   "execution_count": 4,
   "metadata": {
    "collapsed": false
   },
   "outputs": [],
   "source": [
    "# Load the training data.\n",
    "train_data = {}\n",
    "train_user_ids = []\n",
    "\n",
    "# TRAIN-TEST SPLIT FOR TESTING PURPOSES\n",
    "# Need to split on a per-user-artist level, not just per-user level\n",
    "train_train_data = {}\n",
    "train_test_data = {}\n",
    "\n",
    "with open(train_file, 'r') as train_fh:\n",
    "    train_csv = csv.reader(train_fh, delimiter=',', quotechar='\"')\n",
    "    next(train_csv, None)\n",
    "    for row in train_csv:\n",
    "        user   = row[0]\n",
    "        artist = row[1]\n",
    "        plays  = row[2]\n",
    "    \n",
    "        if not user in train_data:\n",
    "            train_data[user] = {}\n",
    "            train_user_ids.append(user)\n",
    "        \n",
    "        train_data[user][artist] = int(plays)\n",
    "        \n",
    "        # Build train and test split\n",
    "        if np.random.uniform(0,1,1) < .75:\n",
    "            if not user in train_train_data:\n",
    "                train_train_data[user] = {}\n",
    "            train_train_data[user][artist] = int(plays)\n",
    "        else:\n",
    "            if not user in train_test_data:\n",
    "                train_test_data[user] = {}\n",
    "            train_test_data[user][artist] = int(plays)"
   ]
  },
  {
   "cell_type": "code",
   "execution_count": 10,
   "metadata": {
    "collapsed": false
   },
   "outputs": [
    {
     "name": "stdout",
     "output_type": "stream",
     "text": [
      "Number of users in train: 233286\n",
      "\n",
      "{'e3e0abcd-7671-4482-a9d8-462f5acc9be5': 64, '63011a8d-0117-4f7e-9991-1ef1f337ff70': 13, 'f4857fb9-e255-4dc6-bd01-e4ca7cc68544': 21, 'c485632c-b784-4ee9-8ea1-c5fb365681fc': 45, 'a96ac800-bfcb-412a-8a63-0a98df600700': 35, '8dd98bdc-80ec-4e93-8509-2f46bafc09a7': 23, '69837400-8e31-4949-aac2-00b46b4df126': 18, 'a3a92047-be1c-4f3e-8960-c4f8570984df': 81, '648615ca-ca74-460d-928a-2bae67ae6d14': 19, '0110e63e-0a9b-4818-af8e-41e180c20b9a': 22, '6ffb8ea9-2370-44d8-b678-e9237bbd347b': 56, '9fdaa16b-a6c4-4831-b87c-bc9ca8ce7eaa': 20, '5441c29d-3602-4898-b1a1-b77fa23b8e50': 70, '9bf79f68-c064-44a1-8c2c-5764f1d7c016': 27, '4a4ee089-93b1-4470-af9a-6ff575d32704': 31, '9efff43b-3b29-4082-824e-bc82f646f93d': 22}\n",
      "{'8d18b680-368c-4649-a5e3-85e0c2dd6fc2': 51, 'a4a3048f-3968-4848-9f53-94e3d4f88b53': 47, '6ffb8ea9-2370-44d8-b678-e9237bbd347b': 86, '9c9f1380-2516-4fc9-a3e6-f9f61941d090': 145, 'eeb1195b-f213-4ce1-b28c-8565211f8e43': 708, '24ea074c-59cc-41c5-a5de-f68c2952965f': 135, '83e59f23-3b0b-4304-834d-5bcafd5df6d2': 65, 'be407b02-f3e6-4ed5-9489-f8e5f0ab36dc': 74, '487bfd74-71bf-46dd-b89c-80b7a0f06f2f': 120, '11ae9fbb-f3d7-4a47-936f-4c0a04d3b3b5': 455, 'b2dbfc09-b332-408b-a235-1850e41971c5': 98, 'eb3f70ce-f226-428f-8d7f-046c8dbfd98f': 271, '9a04dc8c-82f1-457a-a25a-3ff19e1b471e': 192, 'b09b5127-c62e-4bb2-b790-1e4aa18749ed': 113, 'ca5b38c2-f39d-45a4-ad3d-daf4448846ef': 57, 'ada7a83c-e3e1-40f1-93f9-3e73dbc9298a': 49, '66c662b6-6e2f-4930-8610-912e24c63ed1': 1679, 'dcb03ce3-67a5-4eb3-b2d1-2a12d93a38f3': 45, '72ae6caf-4f9f-407e-8c70-8cd195df955c': 164, '14b22b4b-06d5-4b82-8284-29d29b58945f': 77}\n"
     ]
    }
   ],
   "source": [
    "# Examine the data\n",
    "print \"Number of users in train: \" + str(len(train_user_ids))\n",
    "print \"\"\n",
    "for user_id in train_user_ids[1:3]:\n",
    "    print train_data[user_id]"
   ]
  },
  {
   "cell_type": "code",
   "execution_count": 13,
   "metadata": {
    "collapsed": false
   },
   "outputs": [
    {
     "name": "stdout",
     "output_type": "stream",
     "text": [
      "1039878\n"
     ]
    }
   ],
   "source": [
    "# CALCULATE THE NUMBER OF SONGS WE ARE ESTIMATING IN OUR TRIAN_TEST SAMPLE\n",
    "num_songs_estimating = 0\n",
    "\n",
    "for user, user_data in train_test_data.iteritems():\n",
    "    for artist, plays in user_data.iteritems():\n",
    "        num_songs_estimating += 1\n",
    "        \n",
    "print num_songs_estimating"
   ]
  },
  {
   "cell_type": "markdown",
   "metadata": {},
   "source": [
    "## KMeans - Let's Cluster the Users"
   ]
  },
  {
   "cell_type": "code",
   "execution_count": 19,
   "metadata": {
    "collapsed": false
   },
   "outputs": [],
   "source": [
    "from sklearn.cluster import KMeans\n",
    "KM = KMeans(n_clusters=20, init='k-means++', n_init=10, max_iter=300, tol=0.0001, precompute_distances='auto', verbose=0, random_state=37)\n",
    "# Calls fit and then predict\n",
    "predict = KM.fit_predict(profile_matrix)"
   ]
  },
  {
   "cell_type": "code",
   "execution_count": 20,
   "metadata": {
    "collapsed": false
   },
   "outputs": [
    {
     "name": "stdout",
     "output_type": "stream",
     "text": [
      "The objective function: -448359.382828\n"
     ]
    }
   ],
   "source": [
    "print \"The objective function: %f\" % KM.score(profile_matrix) "
   ]
  },
  {
   "cell_type": "code",
   "execution_count": 21,
   "metadata": {
    "collapsed": false
   },
   "outputs": [
    {
     "name": "stdout",
     "output_type": "stream",
     "text": [
      "[ 5  5 12 15  3  0  0  0  6]\n"
     ]
    }
   ],
   "source": [
    "# Examine the predicted clusters\n",
    "print predict[1:10]"
   ]
  },
  {
   "cell_type": "markdown",
   "metadata": {},
   "source": [
    "## Keep track of score\n",
    "\n",
    "10 clusters\n",
    "Indicators for basic params: -948858.492895\n",
    "\n",
    "20 clusters\n",
    "Indicatros for basic params: -448359.382828"
   ]
  },
  {
   "cell_type": "code",
   "execution_count": 12,
   "metadata": {
    "collapsed": false
   },
   "outputs": [
    {
     "name": "stdout",
     "output_type": "stream",
     "text": [
      "174964\n",
      "58322\n"
     ]
    }
   ],
   "source": [
    "## Train-Test Split\n",
    "#tt_X, tt_Y = cross_validation.train_test_split(train_user_ids, random_state=37)\n",
    "#print len(tt_X)\n",
    "#print len(tt_Y)"
   ]
  },
  {
   "cell_type": "code",
   "execution_count": 57,
   "metadata": {
    "collapsed": false
   },
   "outputs": [
    {
     "name": "stdout",
     "output_type": "stream",
     "text": [
      "174964\n",
      "58322\n"
     ]
    }
   ],
   "source": [
    "#tt_X_data = {}\n",
    "#for uid in tt_X:\n",
    "#    tt_X_data[uid] = train_data[uid]\n",
    "    \n",
    "#tt_Y_data = {}\n",
    "#for uid in tt_Y:\n",
    "#    tt_Y_data[uid] = train_data[uid]\n",
    "    \n",
    "#print len(tt_X_data)\n",
    "#print len(tt_Y_data)"
   ]
  },
  {
   "cell_type": "markdown",
   "metadata": {},
   "source": [
    "## Test different techniques\n",
    "\n",
    "### GLOBAL & PER-USER MEDIANS (GIVEN)"
   ]
  },
  {
   "cell_type": "code",
   "execution_count": 65,
   "metadata": {
    "collapsed": false
   },
   "outputs": [
    {
     "name": "stdout",
     "output_type": "stream",
     "text": [
      "User 1c38bd41dbb223394a0639fc401f47435a5d6aec not in train_train data.\n",
      "User 1c38bd41dbb223394a0639fc401f47435a5d6aec not in train_train data.\n",
      "User 1c38bd41dbb223394a0639fc401f47435a5d6aec not in train_train data.\n",
      "User 1c38bd41dbb223394a0639fc401f47435a5d6aec not in train_train data.\n",
      "User 1c38bd41dbb223394a0639fc401f47435a5d6aec not in train_train data.\n",
      "User 1c38bd41dbb223394a0639fc401f47435a5d6aec not in train_train data.\n",
      "User 1c38bd41dbb223394a0639fc401f47435a5d6aec not in train_train data.\n",
      "MEAN ABSOLUTE ERROR 140.056850\n"
     ]
    }
   ],
   "source": [
    "abs_error = 0\n",
    "\n",
    "# TEST WITH GLOBAL and per-USER MEDIAN (GIVEN)\n",
    "# Compute the global median and per-user median.\n",
    "plays_array  = []\n",
    "user_medians = {}\n",
    "for user, user_data in train_train_data.iteritems():\n",
    "    user_plays = []\n",
    "    for artist, plays in user_data.iteritems():\n",
    "        plays_array.append(plays)\n",
    "        user_plays.append(plays)\n",
    "\n",
    "    user_medians[user] = np.median(np.array(user_plays))\n",
    "global_median = np.median(np.array(plays_array))\n",
    "\n",
    "for user, user_data in train_test_data.iteritems():\n",
    "    for artist, plays in user_data.iteritems():\n",
    "        if user in user_medians:\n",
    "            abs_error += abs(user_medians[user] - plays)\n",
    "        else:\n",
    "            print \"User\", user, \"not in train_train data.\"\n",
    "            abs_error += abs(global_median - plays)\n",
    "            \n",
    "print \"MEAN ABSOLUTE ERROR %f\" % (abs_error / num_songs_estimating)"
   ]
  },
  {
   "cell_type": "markdown",
   "metadata": {},
   "source": [
    "### KMEANS CLUSTERING"
   ]
  },
  {
   "cell_type": "code",
   "execution_count": null,
   "metadata": {
    "collapsed": false
   },
   "outputs": [
    {
     "name": "stdout",
     "output_type": "stream",
     "text": [
      "Finished setting up cluster author play dictionary, running test now\n",
      "Cluster+Artist:  13 1fa14a96-c25c-4bb7-b94d-ff453519eab3 not in train_train data.\n",
      "Cluster+Artist:  13 3a54bffa-2314-44a2-927b-60144119c780 not in train_train data.\n",
      "Cluster+Artist:  2 86b24e8f-a4d9-4c84-83ee-fde0d14ad9fa not in train_train data.\n",
      "Cluster+Artist:  2 bbc5b66b-d037-4f26-aecf-0b129e7f876a not in train_train data.\n",
      "Cluster+Artist:  4 e3434cc7-d348-491a-9dc8-325af3d9086d not in train_train data.\n",
      "Cluster+Artist:  2 bdacc37b-8633-4bf8-9dd5-4662ee651aec not in train_train data.\n",
      "Cluster+Artist:  2 82a5b152-ee60-4447-939a-dd5a91cd7c38 not in train_train data.\n",
      "Cluster+Artist:  2 91d51bc3-bfcc-49f2-b6c4-d6d205d6291b not in train_train data.\n",
      "Cluster+Artist:  13 d8d1b067-78bb-4db7-8f91-db2ff9a83ee5 not in train_train data.\n",
      "Cluster+Artist:  13 61b99cc4-06cd-4ad5-9bac-950b2daef9cc not in train_train data.\n",
      "Cluster+Artist:  9 7e30debb-3308-49ab-a5ac-6d49319a5705 not in train_train data.\n",
      "Cluster+Artist:  14 b3c94036-6166-41d2-91a2-dc3a0b5fa188 not in train_train data.\n",
      "Cluster+Artist:  13 2d576cfe-7669-4af0-a66a-86c8362f47c5 not in train_train data.\n",
      "Cluster+Artist:  13 e2c00c56-8365-4160-9f40-a64682917633 not in train_train data.\n",
      "Cluster+Artist:  13 a066b730-3809-4b39-a091-2297d40b51db not in train_train data.\n",
      "Cluster+Artist:  13 58e5332d-383e-414c-9917-776d7b1493a2 not in train_train data.\n",
      "Cluster+Artist:  13 1f8e4ffd-b81b-4d10-91f4-461585bf9d16 not in train_train data.\n",
      "Cluster+Artist:  13 88d1360a-bc2d-47df-90d1-d2de285560aa not in train_train data.\n",
      "Cluster+Artist:  9 57f89cad-d2ef-48df-9119-8287b106716a not in train_train data.\n",
      "Cluster+Artist:  4 1f574ab1-a46d-4586-9331-f0ded23e0411 not in train_train data.\n",
      "Cluster+Artist:  4 ee90d1b3-a4e2-4d18-9092-111d856e7e7a not in train_train data.\n",
      "Cluster+Artist:  2 509f20b2-5df3-4aec-9bbc-002131fb3f99 not in train_train data.\n",
      "Cluster+Artist:  2 410c9baf-5469-44f6-9852-826524b80c61 not in train_train data.\n",
      "Cluster+Artist:  4 a1d69fd9-0096-4a60-b277-de34e5a77fca not in train_train data.\n",
      "Cluster+Artist:  11 ab74e46a-714d-4c2c-90e7-b0638c863917 not in train_train data.\n",
      "Cluster+Artist:  13 153c9281-268f-4cf3-8938-f5a4593e5df4 not in train_train data.\n",
      "Cluster+Artist:  1 9f94e88e-cb13-48b2-8c3d-6ff1181aca80 not in train_train data.\n",
      "Cluster+Artist:  2 75af9d25-cf32-49c0-9192-60bd8e9784e6 not in train_train data.\n",
      "Cluster+Artist:  2 a66999a7-ae5c-460e-ba94-1a01143ae847 not in train_train data.\n",
      "Cluster+Artist:  2 50549203-9602-451c-b49f-ff031ba8635c not in train_train data.\n",
      "Cluster+Artist:  2 516cef4d-0718-4007-9939-f9b38af3f784 not in train_train data.\n",
      "Cluster+Artist:  2 350bce49-c21b-4137-b50a-0766ded07e4d not in train_train data.\n",
      "Cluster+Artist:  13 8b0f05ce-354e-4121-9e0b-8b4732ea844f not in train_train data.\n",
      "Cluster+Artist:  2 c3c82bdc-d9e7-4836-9746-c24ead47ca19 not in train_train data.\n",
      "Cluster+Artist:  2 8262d8e4-9137-4bb3-a787-3caabbbc13e9 not in train_train data.\n",
      "Cluster+Artist:  2 4bb4e4e4-5f66-4509-98af-62dbb90c45c5 not in train_train data.\n",
      "Cluster+Artist:  2 9a709693-b4f8-4da9-8cc1-038c911a61be not in train_train data.\n",
      "Cluster+Artist:  4 7adaabfb-acfb-47bc-8c7c-59471c2f0db8 not in train_train data.\n",
      "Cluster+Artist:  9 188711ed-c99b-439c-844a-ca831f63a727 not in train_train data.\n",
      "Cluster+Artist:  9 ab309b83-904f-4e2c-8d11-a0223bba51f9 not in train_train data.\n",
      "Cluster+Artist:  14 fad8967c-a327-4af5-a64a-d4de66ece652 not in train_train data.\n",
      "Cluster+Artist:  14 b1168a9c-a946-4a5c-a005-62fc632dfa0c not in train_train data.\n",
      "Cluster+Artist:  4 0b6b5e56-9c72-4106-8285-60c4983af93f not in train_train data.\n",
      "Cluster+Artist:  4 a7c38944-b3fa-4a3d-a4bd-d3b3b06f0cbf not in train_train data.\n",
      "Cluster+Artist:  4 52fe888b-112f-4023-adc9-f8287f177f7a not in train_train data.\n",
      "Cluster+Artist:  13 f90e8b26-9e52-4669-a5c9-e28529c47894 not in train_train data.\n",
      "Cluster+Artist:  13 d75d1f08-bbb8-4eae-9877-399ca9121197 not in train_train data.\n",
      "Cluster+Artist:  9 7b1cf87e-c54f-4abc-893d-90245a31900d not in train_train data.\n",
      "Cluster+Artist:  4 dd3f655b-7bf6-4fe1-9360-3de5d842e9d2 not in train_train data.\n",
      "Cluster+Artist:  4 cf8b3b8c-118e-4136-8d1d-c37091173413 not in train_train data.\n",
      "Cluster+Artist:  4 29eb4497-0bd8-4126-abdf-d8007326ee8b not in train_train data.\n",
      "Cluster+Artist:  2 028e1863-cab4-4a3d-9dd9-91c682c91005 not in train_train data.\n",
      "Cluster+Artist:  2 b2dbfc09-b332-408b-a235-1850e41971c5 not in train_train data.\n",
      "Cluster+Artist:  2 c0252a1b-0133-46bb-8c4f-cade46349ec3 not in train_train data.\n",
      "Cluster+Artist:  13 0ffb6573-a98e-412e-aa01-0a580e9d8b06 not in train_train data.\n",
      "Cluster+Artist:  4 8363f94f-fd86-41b8-a56b-26eacb34f499 not in train_train data.\n",
      "Cluster+Artist:  14 84800c46-2211-43e0-8a87-bdcbecf91932 not in train_train data.\n",
      "Cluster+Artist:  14 732bb732-4334-4128-b76a-e130b369c996 not in train_train data.\n",
      "Cluster+Artist:  9 4e210d41-b3e3-4e34-8c3b-3b8cc2116562 not in train_train data.\n",
      "Cluster+Artist:  4 5e6c760b-42e0-4df4-a221-0269355da00a not in train_train data.\n",
      "Cluster+Artist:  14 2e3b75d8-00a8-486a-b4e7-a1f8f65e64c9 not in train_train data.\n",
      "Cluster+Artist:  4 f180cec2-9421-4417-a841-c7372090d13d not in train_train data.\n",
      "Cluster+Artist:  14 8363f94f-fd86-41b8-a56b-26eacb34f499 not in train_train data.\n",
      "Cluster+Artist:  9 eb3f70ce-f226-428f-8d7f-046c8dbfd98f not in train_train data.\n",
      "Cluster+Artist:  13 1bdd1d2d-5974-46e7-8003-2e2ee3176653 not in train_train data.\n",
      "Cluster+Artist:  13 b1e23ada-a7eb-42d7-91ec-67a43bead43a not in train_train data.\n",
      "Cluster+Artist:  13 1aded574-9e16-4648-861a-24fd6f1c309e not in train_train data.\n",
      "Cluster+Artist:  9 3f23c754-8049-44bd-92ca-44a4bacb4380 not in train_train data.\n",
      "Cluster+Artist:  9 74134743-106c-47a6-bb8d-5c9efde7818c not in train_train data.\n",
      "Cluster+Artist:  13 5a8688d2-696f-4060-9dd0-f772886ff95b not in train_train data.\n",
      "Cluster+Artist:  13 d292b4cd-37bd-4a88-a823-8710f273cc31 not in train_train data.\n",
      "Cluster+Artist:  9 b185451a-9edd-46df-8046-1db7e9594f5a not in train_train data.\n",
      "Cluster+Artist:  14 e9e9109e-5914-48c8-a7e6-a95dd94bd345 not in train_train data.\n",
      "Cluster+Artist:  13 bc710bcf-8815-42cf-bad2-3f1d12246aeb not in train_train data.\n",
      "Cluster+Artist:  14 444f2191-8841-440e-bbc1-6fd564893946 not in train_train data.\n",
      "Cluster+Artist:  4 5ffb1041-7236-45d4-8523-60faf95946c6 not in train_train data.\n",
      "Cluster+Artist:  13 2f548675-008d-4332-876c-108b0c7ab9c5 not in train_train data.\n",
      "Cluster+Artist:  13 818be9a0-e5a7-4ff5-a190-98d2411d0cbf not in train_train data.\n",
      "Cluster+Artist:  13 61cd6f2a-cdde-4f34-aacd-b992badcacba not in train_train data.\n",
      "Cluster+Artist:  14 6318e724-7e6b-4e41-a35b-080065077c80 not in train_train data.\n",
      "Cluster+Artist:  14 074e3847-f67f-49f9-81f1-8c8cea147e8e not in train_train data.\n",
      "Cluster+Artist:  9 a8754ac4-a85e-4f48-a81f-eecd482570ef not in train_train data.\n",
      "Cluster+Artist:  9 88d1360a-bc2d-47df-90d1-d2de285560aa not in train_train data.\n",
      "Cluster+Artist:  13 f24c343a-5c24-4633-8ae4-9a3e8cc1eee7 not in train_train data.\n",
      "Cluster+Artist:  2 ece57992-dc2e-4f67-a269-fa43626c1a3d not in train_train data.\n",
      "Cluster+Artist:  2 b669c53e-5a1f-4adc-80be-755e64e8115e not in train_train data.\n",
      "Cluster+Artist:  2 28503ab7-8bf2-4666-a7bd-2644bfc7cb1d not in train_train data.\n",
      "Cluster+Artist:  13 818be9a0-e5a7-4ff5-a190-98d2411d0cbf not in train_train data.\n",
      "Cluster+Artist:  13 88d1360a-bc2d-47df-90d1-d2de285560aa not in train_train data.\n",
      "Cluster+Artist:  14 d24c555c-318d-4fa3-bcf9-a250475cf0af not in train_train data.\n",
      "Cluster+Artist:  13 9c0b1b7f-d63d-4e4f-bbec-1e7e7607dd22 not in train_train data.\n",
      "Cluster+Artist:  1 5f821136-9935-403c-abb5-e78ddda35e9f not in train_train data.\n",
      "Cluster+Artist:  4 62162215-b023-4f0e-84bd-1e9412d5b32c not in train_train data.\n",
      "Cluster+Artist:  4 71bd1152-5ee2-4919-80d7-d269dfd48a55 not in train_train data.\n",
      "Cluster+Artist:  13 ad92dd9c-56ef-4443-b2c0-ff2f7d9cca49 not in train_train data.\n",
      "Cluster+Artist:  13 39153756-5ffa-42a1-9b97-0468839021c3 not in train_train data.\n",
      "Cluster+Artist:  13 bfaf9b70-d1fd-4d3e-b730-3e67e6f8f9bb not in train_train data.\n",
      "Cluster+Artist:  13 3f8a5e5b-c24b-4068-9f1c-afad8829e06b not in train_train data.\n",
      "Cluster+Artist:  6 ba03daa8-0a45-4432-881f-4de8e0e05305 not in train_train data.\n",
      "Cluster+Artist:  1 18eefb0f-7f1c-4ca4-a9b1-d0f2f11bd6b1 not in train_train data.\n",
      "Cluster+Artist:  13 b017a7ae-e5ee-4675-bb13-c83346134971 not in train_train data.\n",
      "Cluster+Artist:  2 2f04ad1f-9f97-41d0-a09c-59c40dfe9cd1 not in train_train data.\n",
      "Cluster+Artist:  14 ac70f34d-95fd-40ed-b436-f5402fb5ffb8 not in train_train data.\n",
      "Cluster+Artist:  4 94219793-a46b-4c39-9397-e05ad633f32d not in train_train data.\n",
      "Cluster+Artist:  4 bfaf9b70-d1fd-4d3e-b730-3e67e6f8f9bb not in train_train data.\n",
      "Cluster+Artist:  4 bd4d397a-849a-48bf-be24-52eec87feeee not in train_train data.\n",
      "Cluster+Artist:  4 a0955511-1324-4e9b-834f-e1e140502850 not in train_train data.\n",
      "Cluster+Artist:  19 8448783d-a68c-490f-b5c5-4a6364ef5537 not in train_train data.\n",
      "Cluster+Artist:  13 7f2a8098-50e3-451c-8696-c5d9f64f4762 not in train_train data.\n",
      "Cluster+Artist:  4 2996c6a2-215d-4f78-aed6-81a130b04816 not in train_train data.\n",
      "Cluster+Artist:  4 39a31de6-763d-48b6-a45c-f7cfad58ffd8 not in train_train data.\n",
      "Cluster+Artist:  13 e1f1e33e-2e4c-4d43-b91b-7064068d3283 not in train_train data.\n",
      "Cluster+Artist:  13 153c9281-268f-4cf3-8938-f5a4593e5df4 not in train_train data.\n",
      "Cluster+Artist:  1 5e94030f-c3c7-4777-a5af-5ecfbfc37bba not in train_train data.\n",
      "Cluster+Artist:  6 2f360fd9-6440-4896-9f45-8156e8b0b204 not in train_train data.\n",
      "Cluster+Artist:  13 c80f38a6-9980-485d-997c-5c1a9cbd0d64 not in train_train data.\n",
      "Cluster+Artist:  13 c7788fba-e635-4d8b-a937-01a68ab154e3 not in train_train data.\n",
      "Cluster+Artist:  13 8295ee00-0096-461d-95c7-c2263d2a4c6d not in train_train data.\n",
      "Cluster+Artist:  13 9b707faa-500f-4ea8-a433-40e0b328a57d not in train_train data.\n",
      "Cluster+Artist:  13 e2c00c56-8365-4160-9f40-a64682917633 not in train_train data.\n",
      "Cluster+Artist:  9 7b1cf87e-c54f-4abc-893d-90245a31900d not in train_train data.\n",
      "Cluster+Artist:  14 c8fb45c8-b3da-422d-a6db-73ac2ee56f77 not in train_train data.\n",
      "Cluster+Artist:  13 39c2a93d-9afa-4a22-9bba-c087ab056e1c not in train_train data.\n",
      "Cluster+Artist:  2 8475297d-fb78-4630-8d74-9b87b6bb7cc8 not in train_train data.\n",
      "Cluster+Artist:  2 a96ac800-bfcb-412a-8a63-0a98df600700 not in train_train data.\n",
      "Cluster+Artist:  13 928303db-cf05-4b19-b11c-d3e5cec36915 not in train_train data.\n",
      "Cluster+Artist:  14 6b22de04-fb48-44aa-bd02-c1427f635477 not in train_train data.\n",
      "Cluster+Artist:  2 667e856e-f3a7-42e9-8244-95422ef31321 not in train_train data.\n",
      "Cluster+Artist:  2 4c730f5d-a27c-49fc-b505-23c2c61a6840 not in train_train data.\n",
      "Cluster+Artist:  2 5dc8a187-443d-4fb2-a0fc-209ef241b9ce not in train_train data.\n",
      "Cluster+Artist:  2 4f416ed7-dda2-45de-a6f1-b986e861cf4b not in train_train data.\n",
      "Cluster+Artist:  2 8475297d-fb78-4630-8d74-9b87b6bb7cc8 not in train_train data.\n",
      "Cluster+Artist:  2 efa2c11a-1a35-4b60-bc1b-66d37de88511 not in train_train data.\n",
      "Cluster+Artist:  2 03ad1736-b7c9-412a-b442-82536d63a5c4 not in train_train data.\n",
      "Cluster+Artist:  2 3ff72a59-f39d-411d-9f93-2d4a86413013 not in train_train data.\n",
      "Cluster+Artist:  2 63b2d8f7-45d2-4b4e-8ffd-92cfcbc38688 not in train_train data.\n",
      "Cluster+Artist:  13 cbc9199f-944b-42e9-a945-627c9fc0ba6e not in train_train data.\n",
      "Cluster+Artist:  13 0c502791-4ee9-4c5f-9696-0602b721ff3b not in train_train data.\n",
      "Cluster+Artist:  14 0638ba22-040f-438d-83a5-9b670c4adaf5 not in train_train data.\n",
      "Cluster+Artist:  13 0d82f0cd-107a-403f-a726-ac7287cbea65 not in train_train data.\n",
      "Cluster+Artist:  13 b5fa29f1-6c22-4321-a488-b5f363b06b06 not in train_train data.\n",
      "Cluster+Artist:  6 58a53082-a629-4ff1-a44d-7492d6f6e8fb not in train_train data.\n",
      "Cluster+Artist:  9 54d76201-3b30-4722-978f-2abdd62e88dd not in train_train data.\n",
      "Cluster+Artist:  9 d0400f72-c2df-4cb3-81bd-72fa19aeaef8 not in train_train data.\n",
      "Cluster+Artist:  13 944e1036-8a03-4611-8aa0-31515a05c848 not in train_train data.\n",
      "Cluster+Artist:  9 e7ad821c-7168-4f98-8998-84e8a12de9e2 not in train_train data.\n",
      "Cluster+Artist:  4 04591295-6d94-45cb-b6c7-1ae17c6f380e not in train_train data.\n",
      "Cluster+Artist:  13 3cb3928a-526c-4a3d-93c5-53315fa9bde0 not in train_train data.\n",
      "Cluster+Artist:  13 fa927f59-d443-418a-b741-e557208aaf09 not in train_train data.\n",
      "Cluster+Artist:  13 40b7efb7-1268-4a80-b354-600afdcbe9e2 not in train_train data.\n",
      "Cluster+Artist:  13 a16371b9-7d36-497a-a9d4-42b0a0440c5e not in train_train data.\n",
      "Cluster+Artist:  9 e8374874-4178-4869-b92e-fef6bf30dc04 not in train_train data.\n",
      "Cluster+Artist:  2 0039c7ae-e1a7-4a7d-9b49-0cbc716821a6 not in train_train data.\n",
      "Cluster+Artist:  2 f4ad883e-9a92-45ed-a540-a49c2d1c36dd not in train_train data.\n",
      "Cluster+Artist:  4 4e045c96-538b-46ed-8ea8-7cae20b56574 not in train_train data.\n",
      "Cluster+Artist:  13 ac70f34d-95fd-40ed-b436-f5402fb5ffb8 not in train_train data.\n",
      "Cluster+Artist:  13 9390a27f-d63d-43ac-a771-a0e0794fee61 not in train_train data.\n",
      "Cluster+Artist:  9 7b1cf87e-c54f-4abc-893d-90245a31900d not in train_train data.\n",
      "Cluster+Artist:  4 d945b088-0eb1-49e6-a232-dee95392ed35 not in train_train data.\n",
      "Cluster+Artist:  4 286ec4c2-b5ca-4f85-b331-280a6d73dd14 not in train_train data.\n",
      "Cluster+Artist:  13 7f5dde96-1573-4491-9673-f03fe7c5caaa not in train_train data.\n",
      "Cluster+Artist:  13 1f16a425-2606-4137-a6b7-234b6dabe037 not in train_train data.\n",
      "Cluster+Artist:  9 270acfee-1fbe-413e-a0a8-6a35a8b3b66c not in train_train data.\n",
      "Cluster+Artist:  4 f3580347-b84a-47d8-b86e-cad642322a47 not in train_train data.\n",
      "Cluster+Artist:  9 e0bba708-bdd3-478d-84ea-c706413bedab not in train_train data.\n",
      "Cluster+Artist:  9 32567eb3-aeca-467f-8b89-a69b11fcb781 not in train_train data.\n",
      "Cluster+Artist:  9 00565b31-14a3-4913-bd22-385eb40dd13c not in train_train data.\n",
      "Cluster+Artist:  14 1b54e90c-638e-4fdd-a20e-4ab09db9fdaf not in train_train data.\n",
      "Cluster+Artist:  14 c3477250-bc5f-44e9-aa0a-144dd2d7a935 not in train_train data.\n",
      "Cluster+Artist:  14 8b5d7dae-6430-473c-8cf6-f448a2e0d3f9 not in train_train data.\n",
      "Cluster+Artist:  14 df074f34-26fc-45fa-adf3-d19836dde2ec not in train_train data.\n",
      "Cluster+Artist:  13 fa927f59-d443-418a-b741-e557208aaf09 not in train_train data.\n",
      "Cluster+Artist:  6 58a53082-a629-4ff1-a44d-7492d6f6e8fb not in train_train data.\n",
      "Cluster+Artist:  4 60530915-9371-4b16-bc31-5c4456317ae0 not in train_train data.\n",
      "Cluster+Artist:  13 e212efdf-98b2-4dce-92ed-62cfc1e29854 not in train_train data.\n",
      "Cluster+Artist:  4 ed29398b-bbf3-42a0-8eff-8631509c271d not in train_train data.\n",
      "Cluster+Artist:  13 8f2422ab-0ec6-4c92-80c4-afe9622fab32 not in train_train data.\n",
      "Cluster+Artist:  4 4fd53e84-ffa1-4434-9146-3fab25ece7e0 not in train_train data.\n",
      "Cluster+Artist:  4 9940c604-2456-4193-a403-ab18420bc1e9 not in train_train data.\n",
      "Cluster+Artist:  13 f10177e4-b7f7-4e63-92b6-c805c6cc54d6 not in train_train data.\n",
      "Cluster+Artist:  2 dc0d05ce-2f47-4962-b4fa-8631a0a51987 not in train_train data.\n",
      "Cluster+Artist:  2 8475297d-fb78-4630-8d74-9b87b6bb7cc8 not in train_train data.\n",
      "Cluster+Artist:  2 b23e8a63-8f47-4882-b55b-df2c92ef400e not in train_train data.\n",
      "Cluster+Artist:  4 d4f82967-4008-4481-953d-399d089753dd not in train_train data.\n",
      "Cluster+Artist:  19 a2496a3c-8f42-4b98-b780-6f8d64f56441 not in train_train data.\n",
      "Cluster+Artist:  14 40a5a225-3279-4d48-bca2-6059ed11b4fc not in train_train data.\n",
      "Cluster+Artist:  4 39a31de6-763d-48b6-a45c-f7cfad58ffd8 not in train_train data.\n",
      "Cluster+Artist:  4 1f8e4ffd-b81b-4d10-91f4-461585bf9d16 not in train_train data.\n",
      "Cluster+Artist:  6 231475d8-fddb-4d7d-aad9-287e59e4b4ba not in train_train data.\n",
      "Cluster+Artist:  13 1a99cc88-aea3-4fe3-96b9-20791667f65f not in train_train data.\n",
      "Cluster+Artist:  13 88d1360a-bc2d-47df-90d1-d2de285560aa not in train_train data.\n",
      "Cluster+Artist:  4 dd3f655b-7bf6-4fe1-9360-3de5d842e9d2 not in train_train data.\n",
      "Cluster+Artist:  9 9390a27f-d63d-43ac-a771-a0e0794fee61 not in train_train data.\n",
      "Cluster+Artist:  9 cd3ec2cf-3a76-4f3f-9b77-2135a1d24602 not in train_train data.\n",
      "Cluster+Artist:  13 7bd9e20e-74b9-446a-a2ed-a223f82a36e7 not in train_train data.\n",
      "Cluster+Artist:  13 75af9d25-cf32-49c0-9192-60bd8e9784e6 not in train_train data.\n",
      "Cluster+Artist:  13 d87e52c5-bb8d-4da8-b941-9f4928627dc8 not in train_train data.\n",
      "Cluster+Artist:  9 54d76201-3b30-4722-978f-2abdd62e88dd not in train_train data.\n",
      "Cluster+Artist:  9 7389b838-9bd1-46d3-b514-95e0df255a52 not in train_train data.\n",
      "Cluster+Artist:  13 0cdb0359-5698-487d-9aae-a25fb4dcdc4d not in train_train data.\n",
      "Cluster+Artist:  2 125ec42a-7229-4250-afc5-e057484327fe not in train_train data.\n",
      "Cluster+Artist:  9 a800acf3-ca6c-4617-92cd-138df973404f not in train_train data.\n",
      "Cluster+Artist:  4 11780147-21c2-4060-abf5-b0804119ef50 not in train_train data.\n",
      "Cluster+Artist:  14 fa7ed4fb-fa39-4820-8ae1-5fe98bc2ef8d not in train_train data.\n",
      "Cluster+Artist:  13 1f8e4ffd-b81b-4d10-91f4-461585bf9d16 not in train_train data.\n",
      "Cluster+Artist:  9 89e39f67-65cc-4f90-b145-b1b56c209f8a not in train_train data.\n",
      "Cluster+Artist:  9 bc27c60a-a967-41c9-9633-c682ca0d77d5 not in train_train data.\n",
      "Cluster+Artist:  9 db859a53-b7ca-4892-bcda-5ef78d2c891f not in train_train data.\n",
      "Cluster+Artist:  4 c76b85c5-56eb-4b05-9d48-da395e56796a not in train_train data.\n",
      "Cluster+Artist:  13 9c0b1b7f-d63d-4e4f-bbec-1e7e7607dd22 not in train_train data.\n",
      "Cluster+Artist:  9 eb3f70ce-f226-428f-8d7f-046c8dbfd98f not in train_train data.\n",
      "Cluster+Artist:  13 f4ad883e-9a92-45ed-a540-a49c2d1c36dd not in train_train data.\n",
      "Cluster+Artist:  4 dd3f655b-7bf6-4fe1-9360-3de5d842e9d2 not in train_train data.\n",
      "Cluster+Artist:  14 370bd5a3-4abf-4356-8576-3a8fc0c11d65 not in train_train data.\n",
      "Cluster+Artist:  13 847e8a0c-cc20-4213-9e16-975515c2a926 not in train_train data.\n",
      "Cluster+Artist:  13 601f8530-9009-4f73-94fb-a355b4497b70 not in train_train data.\n",
      "Cluster+Artist:  2 183d6ef6-e161-47ff-9085-063c8b897e97 not in train_train data.\n",
      "Cluster+Artist:  2 17b53d9f-5c63-4a09-a593-dde4608e0db9 not in train_train data.\n",
      "Cluster+Artist:  2 58a53082-a629-4ff1-a44d-7492d6f6e8fb not in train_train data.\n",
      "Cluster+Artist:  9 e212efdf-98b2-4dce-92ed-62cfc1e29854 not in train_train data.\n",
      "Cluster+Artist:  13 d5a7104a-aad6-4827-8ef5-680041ae80a8 not in train_train data.\n",
      "Cluster+Artist:  13 ad92dd9c-56ef-4443-b2c0-ff2f7d9cca49 not in train_train data.\n",
      "Cluster+Artist:  13 328d146c-79f1-4eb6-9e40-8ee5710c14e5 not in train_train data.\n",
      "Cluster+Artist:  13 cfa7c6b1-bbb3-4f9a-a636-cbfafb9b4bcf not in train_train data.\n",
      "Cluster+Artist:  13 451f8f16-990a-412c-ab3a-b61e5d265b55 not in train_train data.\n",
      "Cluster+Artist:  6 231475d8-fddb-4d7d-aad9-287e59e4b4ba not in train_train data.\n",
      "Cluster+Artist:  13 92ee5562-3c1b-4e02-ac22-aae6261edac5 not in train_train data.\n",
      "Cluster+Artist:  9 ab309b83-904f-4e2c-8d11-a0223bba51f9 not in train_train data.\n",
      "Cluster+Artist:  13 1aff9117-5820-490d-9938-ccad96669292 not in train_train data.\n",
      "Cluster+Artist:  13 64b94289-9474-4d43-8c93-918ccc1920d1 not in train_train data.\n",
      "Cluster+Artist:  13 2b7a7c7f-8c18-4e0c-aaf2-8c6f4e93cdbb not in train_train data.\n",
      "Cluster+Artist:  9 f3430779-bbec-437b-944d-1fbf45d2e786 not in train_train data.\n",
      "Cluster+Artist:  13 f90e8b26-9e52-4669-a5c9-e28529c47894 not in train_train data.\n",
      "Cluster+Artist:  4 5579a23d-c411-4930-987d-ff89d77c1c12 not in train_train data.\n",
      "Cluster+Artist:  4 37d29a0a-4f5d-4a53-917c-bd0e897c54f7 not in train_train data.\n",
      "Cluster+Artist:  1 ce886f30-8b8f-4cc8-b854-3749291350fd not in train_train data.\n",
      "Cluster+Artist:  2 fccef2c8-22a7-419e-bd6b-c40fc8f46068 not in train_train data.\n",
      "Cluster+Artist:  2 c648509e-9916-4c56-ab63-652a03da16dd not in train_train data.\n",
      "Cluster+Artist:  2 2386cd66-e923-4e8e-bf14-2eebe2e9b973 not in train_train data.\n",
      "Cluster+Artist:  2 bbc5b66b-d037-4f26-aecf-0b129e7f876a not in train_train data.\n",
      "Cluster+Artist:  4 ac82cb46-f2b2-4f99-9cfa-d0c322a4ba16 not in train_train data.\n",
      "Cluster+Artist:  4 dd3f655b-7bf6-4fe1-9360-3de5d842e9d2 not in train_train data.\n",
      "Cluster+Artist:  4 73d882c7-1146-4012-a61b-a3b2c11fce2f not in train_train data.\n",
      "Cluster+Artist:  14 8097243f-7a3d-435a-a11e-0c5f886528e0 not in train_train data.\n",
      "Cluster+Artist:  2 f2fb0ff0-5679-42ec-a55c-15109ce6e320 not in train_train data.\n",
      "Cluster+Artist:  2 7fa7fc04-1011-4876-8095-ecd232edea87 not in train_train data.\n",
      "Cluster+Artist:  14 4849dbcf-4192-434c-825b-077c9057c119 not in train_train data.\n",
      "Cluster+Artist:  2 55704c38-224f-4b75-b29f-d43653f8bc9a not in train_train data.\n",
      "Cluster+Artist:  2 337e30b6-3dbe-44f2-a3fd-84a80abdb5a1 not in train_train data.\n",
      "Cluster+Artist:  6 286ec4c2-b5ca-4f85-b331-280a6d73dd14 not in train_train data.\n",
      "Cluster+Artist:  2 b5a6ea29-3065-4869-ac66-a44002e55d4d not in train_train data.\n",
      "Cluster+Artist:  2 d2e123d0-c53e-4444-a52a-efeff44953c7 not in train_train data.\n",
      "Cluster+Artist:  9 94219793-a46b-4c39-9397-e05ad633f32d not in train_train data.\n",
      "Cluster+Artist:  13 d4ad0149-d8ae-4105-8009-0221fce9ff35 not in train_train data.\n",
      "Cluster+Artist:  4 a8ed28e3-5c08-4448-b889-867483e251f5 not in train_train data.\n",
      "Cluster+Artist:  13 7cd2d860-c6d7-4be2-af50-57c51ee45687 not in train_train data.\n",
      "Cluster+Artist:  13 a18015b2-6584-4110-9f7f-23c95b2b066c not in train_train data.\n",
      "Cluster+Artist:  13 a9b88ebb-83aa-4ef7-b674-fabeb572c14e not in train_train data.\n",
      "Cluster+Artist:  6 58a53082-a629-4ff1-a44d-7492d6f6e8fb not in train_train data.\n",
      "Cluster+Artist:  13 328d146c-79f1-4eb6-9e40-8ee5710c14e5 not in train_train data.\n",
      "Cluster+Artist:  13 2b6514cd-d424-45fe-ab85-bd8719f4492d not in train_train data.\n",
      "Cluster+Artist:  13 7e9bd05a-117f-4cce-87bc-e011527a8b18 not in train_train data.\n",
      "Cluster+Artist:  4 25a757f1-9fbe-4c52-be2e-1a5294fb25b9 not in train_train data.\n",
      "Cluster+Artist:  4 16aae9fa-d8f7-4e2c-a907-44aee1ad67fc not in train_train data.\n",
      "Cluster+Artist:  2 936addc3-91aa-49de-8ec0-0dc186de151f not in train_train data.\n",
      "Cluster+Artist:  2 8930ec4e-51c7-4905-ac40-684459878085 not in train_train data.\n",
      "Cluster+Artist:  4 1a99cc88-aea3-4fe3-96b9-20791667f65f not in train_train data.\n",
      "Cluster+Artist:  13 43e2b545-3e4a-4fd7-a773-8daafa610570 not in train_train data.\n",
      "Cluster+Artist:  13 a0327dc2-dc76-44d5-aec6-47cd2dff1469 not in train_train data.\n",
      "Cluster+Artist:  13 b5c4ffa2-82e1-4b72-b7f3-c60afb74b860 not in train_train data.\n",
      "Cluster+Artist:  13 c2f28620-9372-4af4-b961-cc4b9e44d60d not in train_train data.\n",
      "Cluster+Artist:  14 995a32e1-b1a6-4836-8abc-953c8b2f5094 not in train_train data.\n",
      "Cluster+Artist:  9 2c7e21ad-9b16-42df-9f9b-d583ce70a88a not in train_train data.\n",
      "Cluster+Artist:  13 df074f34-26fc-45fa-adf3-d19836dde2ec not in train_train data.\n",
      "Cluster+Artist:  13 b972f589-fb0e-474e-b64a-803b0364fa75 not in train_train data.\n",
      "Cluster+Artist:  13 8d5291bc-e960-428a-9004-b5ab9c171dd2 not in train_train data.\n",
      "Cluster+Artist:  9 f3e2ad21-900e-46a0-8597-2a3e457a7c27 not in train_train data.\n",
      "Cluster+Artist:  14 66ea0139-149f-4a0c-8fbf-5ea9ec4a6e49 not in train_train data.\n",
      "Cluster+Artist:  6 2ba31cc4-df9e-4c21-9dbc-bb8fa9af424f not in train_train data.\n",
      "Cluster+Artist:  6 023d64c9-93db-4a20-8c5c-2efa1a53481a not in train_train data.\n",
      "Cluster+Artist:  4 ce886f30-8b8f-4cc8-b854-3749291350fd not in train_train data.\n",
      "Cluster+Artist:  9 188711ed-c99b-439c-844a-ca831f63a727 not in train_train data.\n",
      "Cluster+Artist:  9 83766a73-9c8a-481e-82ca-11853015cd2d not in train_train data.\n",
      "Cluster+Artist:  9 8d18b680-368c-4649-a5e3-85e0c2dd6fc2 not in train_train data.\n",
      "Cluster+Artist:  2 b62ecfe7-b2e6-4d40-b7d2-8f12d3f51ed6 not in train_train data.\n",
      "Cluster+Artist:  2 1c89bbcc-a253-452a-9181-546eb536e06f not in train_train data.\n",
      "Cluster+Artist:  2 e5c7b94f-e264-473c-bb0f-37c85d4d5c70 not in train_train data.\n",
      "Cluster+Artist:  2 b23e8a63-8f47-4882-b55b-df2c92ef400e not in train_train data.\n",
      "Cluster+Artist:  9 864d7069-57dc-45f6-b408-875b35106dd3 not in train_train data.\n",
      "Cluster+Artist:  9 371f152d-1643-4b54-b32b-dd13d4c23442 not in train_train data.\n",
      "Cluster+Artist:  9 3697647f-1839-479e-98a1-9ad39004d923 not in train_train data.\n",
      "Cluster+Artist:  2 3231d12a-c42d-4977-b2a4-a6e4d87978e1 not in train_train data.\n",
      "Cluster+Artist:  2 2e547c75-36c1-49d0-984e-b14498c936f0 not in train_train data.\n",
      "Cluster+Artist:  2 d7311646-287b-4d3a-9a4f-7d46f93075e5 not in train_train data.\n",
      "Cluster+Artist:  2 38d16213-25ba-450d-8665-4e08548e62e3 not in train_train data.\n",
      "Cluster+Artist:  2 1946a82a-f927-40c2-8235-38d64f50d043 not in train_train data.\n",
      "Cluster+Artist:  2 d2e123d0-c53e-4444-a52a-efeff44953c7 not in train_train data.\n",
      "Cluster+Artist:  9 dbb3b771-ae77-4381-b61c-758b5b7898ec not in train_train data.\n",
      "Cluster+Artist:  9 c30ebe30-514f-4e6d-823a-19adf0225a56 not in train_train data.\n",
      "Cluster+Artist:  14 ce55e49a-32f4-4757-9849-bf04d06d5fcc not in train_train data.\n",
      "Cluster+Artist:  13 1b54e90c-638e-4fdd-a20e-4ab09db9fdaf not in train_train data.\n",
      "Cluster+Artist:  9 68ec1b08-3c2e-40b3-b0af-8f323743fdff not in train_train data.\n",
      "Cluster+Artist:  13 462a85b4-83ac-4164-86b3-e5ac6a7ec040 not in train_train data.\n",
      "Cluster+Artist:  13 2c1828a2-e46b-4ade-a6e9-065ca265d679 not in train_train data.\n",
      "Cluster+Artist:  13 2f569e60-0a1b-4fb9-95a4-3dc1525d1aad not in train_train data.\n",
      "Cluster+Artist:  14 444f2191-8841-440e-bbc1-6fd564893946 not in train_train data.\n",
      "Cluster+Artist:  14 3fa7095b-4447-465e-a784-14b07789d7a1 not in train_train data.\n",
      "Cluster+Artist:  4 f180cec2-9421-4417-a841-c7372090d13d not in train_train data.\n",
      "Cluster+Artist:  13 a11aacf5-fcbe-47f9-b065-75f4466c00ae not in train_train data.\n",
      "Cluster+Artist:  13 e3c8b0c8-3fa0-464b-b1f5-119cb52d3817 not in train_train data.\n",
      "Cluster+Artist:  4 9f2524e1-cda1-4304-941e-ebb448d32a16 not in train_train data.\n",
      "Cluster+Artist:  9 fa4ad5f5-568e-498f-ba98-9ffc18e54ff3 not in train_train data.\n",
      "Cluster+Artist:  9 81df2271-03a1-46a3-bb30-cce187235312 not in train_train data.\n",
      "Cluster+Artist:  9 3648db01-b29d-4ab9-835c-83f6a5068fe4 not in train_train data.\n",
      "Cluster+Artist:  9 995a32e1-b1a6-4836-8abc-953c8b2f5094 not in train_train data.\n",
      "Cluster+Artist:  14 fd1baeb3-0ee9-4838-b4c7-615c78d68d10 not in train_train data.\n",
      "Cluster+Artist:  4 c2a44e93-3a2b-44aa-bd8b-7a71bb76e3b5 not in train_train data.\n",
      "Cluster+Artist:  14 ff44857a-5f7b-45e5-b1c3-aa76f98ce6b4 not in train_train data.\n",
      "Cluster+Artist:  9 6caf09f5-2f01-4f76-bcc7-6207930c56c6 not in train_train data.\n",
      "Cluster+Artist:  9 455aca99-38f3-47cb-aa6b-820cf9de3c91 not in train_train data.\n",
      "Cluster+Artist:  13 23228f18-01d5-493e-94ce-cfcde82a8db2 not in train_train data.\n",
      "Cluster+Artist:  14 d945b088-0eb1-49e6-a232-dee95392ed35 not in train_train data.\n",
      "Cluster+Artist:  6 023d64c9-93db-4a20-8c5c-2efa1a53481a not in train_train data.\n",
      "Cluster+Artist:  14 e204ed91-3684-4561-b29b-d0b53f8459a7 not in train_train data.\n",
      "Cluster+Artist:  9 e0bba708-bdd3-478d-84ea-c706413bedab not in train_train data.\n",
      "Cluster+Artist:  2 32a83250-7e26-422d-b9ac-f4564343e9ce not in train_train data.\n",
      "Cluster+Artist:  14 350bce49-c21b-4137-b50a-0766ded07e4d not in train_train data.\n",
      "Cluster+Artist:  4 0cc9e56e-a623-47ea-b5f2-1a1757cc2426 not in train_train data.\n",
      "Cluster+Artist:  2 0bfba3d3-6a04-4779-bb0a-df07df5b0558 not in train_train data.\n",
      "Cluster+Artist:  2 07b6020a-c539-4d68-aeef-f159f3befc76 not in train_train data.\n",
      "Cluster+Artist:  9 d82ba5f4-da09-479a-ab18-4b1a122c4345 not in train_train data.\n",
      "Cluster+Artist:  2 a81259a0-a2f5-464b-866e-71220f2739f1 not in train_train data.\n",
      "Cluster+Artist:  2 f2fb0ff0-5679-42ec-a55c-15109ce6e320 not in train_train data.\n",
      "Cluster+Artist:  2 aeee5fe5-38f5-41bc-8ab8-9f9aa23e4f68 not in train_train data.\n",
      "Cluster+Artist:  4 d044577e-aa22-43b7-ab29-cabee5f6643c not in train_train data.\n",
      "Cluster+Artist:  9 41aa2734-ec86-4197-a074-d44886e7da8d not in train_train data.\n",
      "Cluster+Artist:  14 dd3f655b-7bf6-4fe1-9360-3de5d842e9d2 not in train_train data.\n",
      "Cluster+Artist:  13 55fd865d-4a0d-4fd0-af19-7e6feb168ab8 not in train_train data.\n",
      "Cluster+Artist:  13 43e2b545-3e4a-4fd7-a773-8daafa610570 not in train_train data.\n",
      "Cluster+Artist:  13 4cc51547-88ae-49a2-bf7e-0ef65ee7a94c not in train_train data.\n",
      "Cluster+Artist:  13 ee90d1b3-a4e2-4d18-9092-111d856e7e7a not in train_train data.\n",
      "Cluster+Artist:  1 9f94e88e-cb13-48b2-8c3d-6ff1181aca80 not in train_train data.\n",
      "Cluster+Artist:  9 89e39f67-65cc-4f90-b145-b1b56c209f8a not in train_train data.\n",
      "Cluster+Artist:  9 5ffb73c0-b739-4231-ba22-f8d361be1d45 not in train_train data.\n",
      "Cluster+Artist:  13 c8fc1732-d191-4a29-a33a-410f98eff13b not in train_train data.\n",
      "Cluster+Artist:  9 c2b37a39-c66a-44b2-b190-a69485ae5d95 not in train_train data.\n",
      "Cluster+Artist:  9 2de794c8-8826-48d0-90e0-6900183ba9e0 not in train_train data.\n",
      "Cluster+Artist:  14 b863cf80-19c6-4a87-8e42-6cff7ac8f18f not in train_train data.\n",
      "Cluster+Artist:  6 2ecbd923-9daf-4f18-9250-e482ccec4c28 not in train_train data.\n",
      "Cluster+Artist:  6 2f360fd9-6440-4896-9f45-8156e8b0b204 not in train_train data.\n",
      "Cluster+Artist:  13 e1f1e33e-2e4c-4d43-b91b-7064068d3283 not in train_train data.\n",
      "Cluster+Artist:  13 ad92dd9c-56ef-4443-b2c0-ff2f7d9cca49 not in train_train data.\n",
      "Cluster+Artist:  13 f4ad883e-9a92-45ed-a540-a49c2d1c36dd not in train_train data.\n",
      "Cluster+Artist:  9 35a6a353-b186-4c13-a264-d18d5e2ce853 not in train_train data.\n",
      "Cluster+Artist:  9 e3e4e534-30cd-4979-bcc5-a75c49802f57 not in train_train data.\n",
      "Cluster+Artist:  13 ac2d1c91-3667-46aa-9fe7-170ca7fce9e2 not in train_train data.\n",
      "Cluster+Artist:  4 214d84a5-e9e5-4432-af95-8c84da7ba4c0 not in train_train data.\n",
      "Cluster+Artist:  14 47685be0-926f-4be9-b1ae-e32da47a3b99 not in train_train data.\n",
      "Cluster+Artist:  9 b1e23ada-a7eb-42d7-91ec-67a43bead43a not in train_train data.\n",
      "Cluster+Artist:  9 4ca783b7-5bf7-4348-b494-46680660050f not in train_train data.\n",
      "Cluster+Artist:  4 d044577e-aa22-43b7-ab29-cabee5f6643c not in train_train data.\n",
      "Cluster+Artist:  2 d8915e13-d67a-4aa0-9c0b-1f126af951af not in train_train data.\n",
      "Cluster+Artist:  2 cb67438a-7f50-4f2b-a6f1-2bb2729fd538 not in train_train data.\n",
      "Cluster+Artist:  2 3cb3928a-526c-4a3d-93c5-53315fa9bde0 not in train_train data.\n",
      "Cluster+Artist:  1 5f821136-9935-403c-abb5-e78ddda35e9f not in train_train data.\n",
      "Cluster+Artist:  9 50a32791-ee43-4c67-aabc-3dc65e4a9838 not in train_train data.\n",
      "Cluster+Artist:  2 3e30aebd-0557-4cfd-8fb9-3945afa5d72b not in train_train data.\n",
      "Cluster+Artist:  4 62162215-b023-4f0e-84bd-1e9412d5b32c not in train_train data.\n",
      "Cluster+Artist:  4 9bbbca84-c6a4-44ac-87b6-d7e8e7930bb1 not in train_train data.\n",
      "Cluster+Artist:  4 d044577e-aa22-43b7-ab29-cabee5f6643c not in train_train data.\n",
      "Cluster+Artist:  18 b09bcf6d-3a27-4fd5-8300-f42f51a80446 not in train_train data.\n",
      "Cluster+Artist:  14 b863cf80-19c6-4a87-8e42-6cff7ac8f18f not in train_train data.\n",
      "Cluster+Artist:  14 371f152d-1643-4b54-b32b-dd13d4c23442 not in train_train data.\n",
      "Cluster+Artist:  4 451f9db1-f75f-44f9-b218-f8bdf22035a1 not in train_train data.\n",
      "Cluster+Artist:  9 b847568f-cd75-44c7-b87b-4f38a5a9f661 not in train_train data.\n",
      "Cluster+Artist:  4 8363f94f-fd86-41b8-a56b-26eacb34f499 not in train_train data.\n",
      "Cluster+Artist:  14 afe5e238-d248-4da4-87b7-e70dfab787f6 not in train_train data.\n",
      "Cluster+Artist:  9 61386f55-12b6-45be-baf2-7c9406965808 not in train_train data.\n",
      "Cluster+Artist:  13 aafa70a4-2f06-4975-935e-b283fc87de7e not in train_train data.\n",
      "Cluster+Artist:  13 fad8967c-a327-4af5-a64a-d4de66ece652 not in train_train data.\n",
      "Cluster+Artist:  13 6be2828f-6c0d-4059-99d4-fa18acf1a296 not in train_train data.\n",
      "Cluster+Artist:  13 d6e65033-b56a-49df-8744-6fc3ffd75edd not in train_train data.\n",
      "Cluster+Artist:  13 dd3f655b-7bf6-4fe1-9360-3de5d842e9d2 not in train_train data.\n",
      "Cluster+Artist:  13 d87e52c5-bb8d-4da8-b941-9f4928627dc8 not in train_train data.\n",
      "Cluster+Artist:  14 84800c46-2211-43e0-8a87-bdcbecf91932 not in train_train data.\n",
      "Cluster+Artist:  13 369fbad4-6fa4-4dae-9842-a69826cd359d not in train_train data.\n",
      "Cluster+Artist:  13 6d072aa8-c851-49c5-92f9-cbca05f4bed9 not in train_train data.\n",
      "Cluster+Artist:  6 2f360fd9-6440-4896-9f45-8156e8b0b204 not in train_train data.\n",
      "Cluster+Artist:  2 1946a82a-f927-40c2-8235-38d64f50d043 not in train_train data.\n",
      "Cluster+Artist:  11 ab74e46a-714d-4c2c-90e7-b0638c863917 not in train_train data.\n",
      "Cluster+Artist:  9 f04cc80e-0f59-45b8-aaf4-ac81035644e9 not in train_train data.\n",
      "Cluster+Artist:  13 b5fa29f1-6c22-4321-a488-b5f363b06b06 not in train_train data.\n",
      "Cluster+Artist:  13 aaae25bf-c794-45d7-bab7-cdc7c655bfa6 not in train_train data.\n",
      "Cluster+Artist:  4 1f574ab1-a46d-4586-9331-f0ded23e0411 not in train_train data.\n",
      "Cluster+Artist:  9 f7df5df4-4dfa-459d-972b-1ba051c15ddc not in train_train data.\n",
      "Cluster+Artist:  9 b1e23ada-a7eb-42d7-91ec-67a43bead43a not in train_train data.\n",
      "Cluster+Artist:  9 6a0439a1-4520-443b-9bf1-02acdf692d6e not in train_train data.\n",
      "Cluster+Artist:  1 ce886f30-8b8f-4cc8-b854-3749291350fd not in train_train data.\n",
      "Cluster+Artist:  4 c2a44e93-3a2b-44aa-bd8b-7a71bb76e3b5 not in train_train data.\n",
      "Cluster+Artist:  14 6a2ca1ac-408d-49b0-a7f6-cd608f2f684f not in train_train data.\n",
      "Cluster+Artist:  4 98fb7792-01fa-4ed1-a15d-20077a47210f not in train_train data.\n",
      "Cluster+Artist:  11 ab74e46a-714d-4c2c-90e7-b0638c863917 not in train_train data.\n",
      "Cluster+Artist:  14 2645702c-97a3-45dd-b408-707362116101 not in train_train data.\n",
      "Cluster+Artist:  14 54d99b56-f672-4077-8b15-b84c068e58fe not in train_train data.\n",
      "Cluster+Artist:  4 657ec972-3ab1-48a8-b472-1f1c210aaf17 not in train_train data.\n",
      "Cluster+Artist:  4 42884e27-dfb8-453d-990f-2ffd90bc2d1a not in train_train data.\n",
      "Cluster+Artist:  14 94dbfe2e-ca48-4e08-a5a8-e1e74136c63d not in train_train data.\n",
      "Cluster+Artist:  14 ef4db186-ff43-4708-a713-3ce1e05657a1 not in train_train data.\n",
      "Cluster+Artist:  9 c2b37a39-c66a-44b2-b190-a69485ae5d95 not in train_train data.\n",
      "Cluster+Artist:  4 f26c72d3-e52c-467b-b651-679c73d8e1a7 not in train_train data.\n",
      "Cluster+Artist:  4 cf8b3b8c-118e-4136-8d1d-c37091173413 not in train_train data.\n",
      "Cluster+Artist:  13 e1f1e33e-2e4c-4d43-b91b-7064068d3283 not in train_train data.\n",
      "Cluster+Artist:  13 cbf9738d-8f81-4a92-bc64-ede09341652d not in train_train data.\n",
      "Cluster+Artist:  4 6e650a01-6489-4dc8-85e1-8ec809dd72a2 not in train_train data.\n",
      "Cluster+Artist:  9 8a396a9c-2e4f-47e2-a587-c26e93a0953f not in train_train data.\n",
      "Cluster+Artist:  4 7adaabfb-acfb-47bc-8c7c-59471c2f0db8 not in train_train data.\n",
      "Cluster+Artist:  9 5e857ebe-88f3-4aab-9534-6728c305e427 not in train_train data.\n",
      "Cluster+Artist:  13 647221d0-f6b1-4e03-924c-c59b8059536f not in train_train data.\n",
      "Cluster+Artist:  13 e5257dc5-1edd-4fca-b7e6-1158e00522c8 not in train_train data.\n",
      "Cluster+Artist:  4 4cbbf0d6-6c78-4e3d-ab25-91b13603cf7c not in train_train data.\n",
      "Cluster+Artist:  4 5e88b386-cf20-4aee-86b3-5a22cb8c2fda not in train_train data.\n",
      "Cluster+Artist:  9 edbc42ea-6040-4414-8c4c-9eb7d503f64c not in train_train data.\n",
      "Cluster+Artist:  14 c0252a1b-0133-46bb-8c4f-cade46349ec3 not in train_train data.\n",
      "Cluster+Artist:  13 be540c02-7898-4b79-9acc-c8122c7d9e83 not in train_train data.\n",
      "Cluster+Artist:  13 233fc3f3-6de2-465c-985e-e721dbabbace not in train_train data.\n",
      "Cluster+Artist:  14 e9aed5e5-ed35-4244-872e-194862290295 not in train_train data.\n",
      "Cluster+Artist:  9 3599a39e-4e10-4cb5-90d4-c8a015ebc73b not in train_train data.\n",
      "Cluster+Artist:  14 995a32e1-b1a6-4836-8abc-953c8b2f5094 not in train_train data.\n",
      "Cluster+Artist:  13 603c5f9f-492a-4f21-9d6f-1642a5dbea2d not in train_train data.\n",
      "Cluster+Artist:  13 e9c97fdb-9fa0-4955-9a6c-1c43e1ac3f64 not in train_train data.\n",
      "Cluster+Artist:  4 39a31de6-763d-48b6-a45c-f7cfad58ffd8 not in train_train data.\n",
      "Cluster+Artist:  4 ed29398b-bbf3-42a0-8eff-8631509c271d not in train_train data.\n",
      "Cluster+Artist:  2 34c63966-445c-4613-afe1-4f0e1e53ae9a not in train_train data.\n",
      "Cluster+Artist:  2 6faa7ca7-0d99-4a5e-bfa6-1fd5037520c6 not in train_train data.\n",
      "Cluster+Artist:  2 eea8a864-fcda-4602-9569-38ab446decd6 not in train_train data.\n",
      "Cluster+Artist:  2 b38225b8-8e5f-42aa-bcdc-7bae5b5bdab3 not in train_train data.\n",
      "Cluster+Artist:  2 e20747e7-55a4-452e-8766-7b985585082d not in train_train data.\n",
      "Cluster+Artist:  2 b896aa8c-2761-40ce-b485-0e1fffd26167 not in train_train data.\n",
      "Cluster+Artist:  6 10b7b68c-390d-469a-915b-40bac704f288 not in train_train data.\n",
      "Cluster+Artist:  4 6f28b158-4d1a-4f31-9339-7f381e3c4ee1 not in train_train data.\n",
      "Cluster+Artist:  4 3f8a5e5b-c24b-4068-9f1c-afad8829e06b not in train_train data.\n",
      "Cluster+Artist:  6 707622da-475f-48e1-905d-248718df6521 not in train_train data.\n",
      "Cluster+Artist:  9 8385f26a-f374-4a04-9aad-4442ce24db2b not in train_train data.\n",
      "Cluster+Artist:  14 e9e9109e-5914-48c8-a7e6-a95dd94bd345 not in train_train data.\n",
      "Cluster+Artist:  14 05851234-4e8f-4cc8-b682-a55c23277d9c not in train_train data.\n",
      "Cluster+Artist:  16 bdacc37b-8633-4bf8-9dd5-4662ee651aec not in train_train data.\n",
      "Cluster+Artist:  16 315126eb-86bc-475c-a308-b8edfdd6c08c not in train_train data.\n",
      "Cluster+Artist:  16 87c5dedd-371d-4a53-9f7f-80522fb7f3cb not in train_train data.\n",
      "Cluster+Artist:  4 215c6ab2-7888-4061-bd56-9fb650328106 not in train_train data.\n",
      "Cluster+Artist:  14 fa7ed4fb-fa39-4820-8ae1-5fe98bc2ef8d not in train_train data.\n",
      "Cluster+Artist:  14 40b7efb7-1268-4a80-b354-600afdcbe9e2 not in train_train data.\n",
      "Cluster+Artist:  2 d624df22-b03d-4746-ac28-a4bd72aeec26 not in train_train data.\n",
      "Cluster+Artist:  2 a02b1a45-271c-4bc3-9d82-68bb896cb5fd not in train_train data.\n",
      "Cluster+Artist:  2 a466c2a2-6517-42fb-a160-1087c3bafd9f not in train_train data.\n",
      "Cluster+Artist:  2 516cef4d-0718-4007-9939-f9b38af3f784 not in train_train data.\n",
      "Cluster+Artist:  2 fbd2a255-1d57-4d31-ac11-65b671c19958 not in train_train data.\n",
      "Cluster+Artist:  4 34d42823-6b56-4861-a675-1565bf40d557 not in train_train data.\n",
      "Cluster+Artist:  14 c30ebe30-514f-4e6d-823a-19adf0225a56 not in train_train data.\n",
      "Cluster+Artist:  19 dd3f655b-7bf6-4fe1-9360-3de5d842e9d2 not in train_train data.\n",
      "Cluster+Artist:  9 86a064f9-3ed4-4621-b29d-d05442c6b1ae not in train_train data.\n",
      "Cluster+Artist:  14 6f2f87e7-3ce9-4f1c-81dd-6f068a78cf26 not in train_train data.\n",
      "Cluster+Artist:  19 dd3f655b-7bf6-4fe1-9360-3de5d842e9d2 not in train_train data.\n",
      "Cluster+Artist:  6 d5a7104a-aad6-4827-8ef5-680041ae80a8 not in train_train data.\n",
      "Cluster+Artist:  9 5fc21e44-d663-495a-b16a-7cc641af5deb not in train_train data.\n",
      "Cluster+Artist:  9 5153eb0e-b6dd-4882-a24a-7d464c153962 not in train_train data.\n",
      "Cluster+Artist:  4 7adaabfb-acfb-47bc-8c7c-59471c2f0db8 not in train_train data.\n",
      "Cluster+Artist:  9 42edf21b-2dda-4382-aa6b-49b6483bcf73 not in train_train data.\n",
      "Cluster+Artist:  9 a9b88ebb-83aa-4ef7-b674-fabeb572c14e not in train_train data.\n",
      "Cluster+Artist:  2 d8915e13-d67a-4aa0-9c0b-1f126af951af not in train_train data.\n",
      "Cluster+Artist:  2 73fdb566-a9b1-494c-9f32-51768ec9fd27 not in train_train data.\n",
      "Cluster+Artist:  2 3b39abeb-0064-4eed-9ddd-ee47a45c54cb not in train_train data.\n",
      "Cluster+Artist:  2 bb3cbea2-5ad4-4917-bc84-8a1975d40315 not in train_train data.\n",
      "Cluster+Artist:  9 63b2d8f7-45d2-4b4e-8ffd-92cfcbc38688 not in train_train data.\n",
      "Cluster+Artist:  13 a8e935c6-3fcc-414c-900c-77e8170e7e7c not in train_train data.\n",
      "Cluster+Artist:  2 9ddd7abc-9e1b-471d-8031-583bc6bc8be9 not in train_train data.\n",
      "Cluster+Artist:  2 1f9df192-a621-4f54-8850-2c5373b7eac9 not in train_train data.\n",
      "Cluster+Artist:  2 5c2717ab-3b1e-4043-8874-e88ecf391cc9 not in train_train data.\n",
      "Cluster+Artist:  9 c2b37a39-c66a-44b2-b190-a69485ae5d95 not in train_train data.\n",
      "Cluster+Artist:  13 5a8688d2-696f-4060-9dd0-f772886ff95b not in train_train data.\n",
      "Cluster+Artist:  13 03cfec4a-9885-444c-9e74-5fbab5861106 not in train_train data.\n",
      "Cluster+Artist:  13 00565b31-14a3-4913-bd22-385eb40dd13c not in train_train data.\n",
      "Cluster+Artist:  14 10b7cfe3-a99b-49b3-91ed-b0efb7b32371 not in train_train data.\n",
      "Cluster+Artist:  4 5e6c760b-42e0-4df4-a221-0269355da00a not in train_train data.\n",
      "Cluster+Artist:  13 e132d370-2a59-4437-8610-756df28a5a02 not in train_train data.\n",
      "Cluster+Artist:  4 1f574ab1-a46d-4586-9331-f0ded23e0411 not in train_train data.\n",
      "Cluster+Artist:  4 a04e7da2-998b-4e36-abaa-014c00b93622 not in train_train data.\n",
      "Cluster+Artist:  4 62162215-b023-4f0e-84bd-1e9412d5b32c not in train_train data.\n",
      "Cluster+Artist:  9 451f9db1-f75f-44f9-b218-f8bdf22035a1 not in train_train data.\n",
      "Cluster+Artist:  2 b10806de-2198-4313-af6a-13df4acb912f not in train_train data.\n",
      "Cluster+Artist:  13 3b221a54-54b9-435c-a7f3-5cf8e2ce9fb2 not in train_train data.\n",
      "Cluster+Artist:  2 630662ea-1c7d-4208-99fd-ba3afec20f0c not in train_train data.\n",
      "Cluster+Artist:  2 4b585938-f271-45e2-b19a-91c634b5e396 not in train_train data.\n",
      "Cluster+Artist:  11 ab74e46a-714d-4c2c-90e7-b0638c863917 not in train_train data.\n",
      "Cluster+Artist:  13 6830e150-6233-4255-ab97-6e2e38759637 not in train_train data.\n",
      "Cluster+Artist:  13 2f548675-008d-4332-876c-108b0c7ab9c5 not in train_train data.\n",
      "Cluster+Artist:  4 d945b088-0eb1-49e6-a232-dee95392ed35 not in train_train data.\n",
      "Cluster+Artist:  13 68a0067a-7a3a-43d3-bd91-391ea7600d8c not in train_train data.\n",
      "Cluster+Artist:  4 11780147-21c2-4060-abf5-b0804119ef50 not in train_train data.\n",
      "Cluster+Artist:  1 ce886f30-8b8f-4cc8-b854-3749291350fd not in train_train data.\n",
      "Cluster+Artist:  4 39d6c679-b41c-470c-a755-4566bde24063 not in train_train data.\n",
      "Cluster+Artist:  4 215c6ab2-7888-4061-bd56-9fb650328106 not in train_train data.\n",
      "Cluster+Artist:  13 931e1d1f-6b2f-4ff8-9f70-aa537210cd46 not in train_train data.\n",
      "Cluster+Artist:  13 d530dbf9-69b1-404f-98f2-0431104f5a1e not in train_train data.\n",
      "Cluster+Artist:  14 370bd5a3-4abf-4356-8576-3a8fc0c11d65 not in train_train data.\n",
      "Cluster+Artist:  13 c78a77fa-507c-4c07-947a-0355029453bd not in train_train data.\n",
      "Cluster+Artist:  13 234bab50-2f04-4d21-8f91-df93ef554855 not in train_train data.\n",
      "Cluster+Artist:  4 5fee3020-513b-48c2-b1f7-4681b01db0c6 not in train_train data.\n",
      "Cluster+Artist:  4 dc21d171-7204-4759-9fd0-77d031aeb40c not in train_train data.\n",
      "Cluster+Artist:  6 2adb429d-e39c-467b-b175-3f40440ff630 not in train_train data.\n",
      "Cluster+Artist:  6 81b96954-da0d-4d8f-a7fa-cbc77ae88a34 not in train_train data.\n",
      "Cluster+Artist:  9 3f23c754-8049-44bd-92ca-44a4bacb4380 not in train_train data.\n",
      "Cluster+Artist:  13 bc710bcf-8815-42cf-bad2-3f1d12246aeb not in train_train data.\n",
      "Cluster+Artist:  13 7fbfcd25-9ce2-4ef4-9270-e971ea61fb4a not in train_train data.\n",
      "Cluster+Artist:  13 fb7272ba-f130-4f0a-934d-6eeea4c18c9a not in train_train data.\n",
      "Cluster+Artist:  13 82a5b152-ee60-4447-939a-dd5a91cd7c38 not in train_train data.\n",
      "Cluster+Artist:  13 42884e27-dfb8-453d-990f-2ffd90bc2d1a not in train_train data.\n",
      "Cluster+Artist:  7 42faad37-8aaa-42e4-a300-5a7dae79ed24 not in train_train data.\n",
      "Cluster+Artist:  7 8475297d-fb78-4630-8d74-9b87b6bb7cc8 not in train_train data.\n",
      "Cluster+Artist:  7 03ad1736-b7c9-412a-b442-82536d63a5c4 not in train_train data.\n",
      "Cluster+Artist:  7 a96ac800-bfcb-412a-8a63-0a98df600700 not in train_train data.\n",
      "Cluster+Artist:  9 54b0584e-4e5e-4976-80d4-eea7a82a7213 not in train_train data.\n",
      "Cluster+Artist:  9 c147b96e-3428-4604-9b6c-d931f980f684 not in train_train data.\n",
      "Cluster+Artist:  1 5e94030f-c3c7-4777-a5af-5ecfbfc37bba not in train_train data.\n",
      "Cluster+Artist:  9 ffe16bba-4d84-409b-8f22-5242c60b930f not in train_train data.\n",
      "Cluster+Artist:  9 6f81a7dc-be31-4498-ae95-6d994ffec614 not in train_train data.\n",
      "Cluster+Artist:  14 c29f4522-f710-4bb5-a06b-d436fcc3b2fd not in train_train data.\n",
      "Cluster+Artist:  13 2e547c75-36c1-49d0-984e-b14498c936f0 not in train_train data.\n",
      "Cluster+Artist:  13 d7311646-287b-4d3a-9a4f-7d46f93075e5 not in train_train data.\n",
      "Cluster+Artist:  4 8c5755b4-2de6-4158-bca9-e354cbf07437 not in train_train data.\n",
      "Cluster+Artist:  9 5e857ebe-88f3-4aab-9534-6728c305e427 not in train_train data.\n",
      "Cluster+Artist:  9 b5b4ba6e-6e34-4669-a33b-0d813b4c3d83 not in train_train data.\n",
      "Cluster+Artist:  13 25a757f1-9fbe-4c52-be2e-1a5294fb25b9 not in train_train data.\n",
      "Cluster+Artist:  6 2f360fd9-6440-4896-9f45-8156e8b0b204 not in train_train data.\n",
      "Cluster+Artist:  4 cf66ee44-360b-445e-bfb8-e20e69325742 not in train_train data.\n",
      "Cluster+Artist:  9 ea321799-9b1d-4e74-a074-a5facf597d82 not in train_train data.\n",
      "Cluster+Artist:  13 42884e27-dfb8-453d-990f-2ffd90bc2d1a not in train_train data.\n",
      "Cluster+Artist:  13 a3a92047-be1c-4f3e-8960-c4f8570984df not in train_train data.\n",
      "Cluster+Artist:  4 8a7a4e72-a099-425f-8238-80706fc1c746 not in train_train data.\n",
      "Cluster+Artist:  14 d292b4cd-37bd-4a88-a823-8710f273cc31 not in train_train data.\n",
      "Cluster+Artist:  4 e9aca1a3-836a-4e5e-b8d4-56d20c60af5f not in train_train data.\n",
      "Cluster+Artist:  13 e105c272-b5d7-4135-82ef-d60bded54345 not in train_train data.\n",
      "Cluster+Artist:  13 2e04a82f-9118-43b1-a918-bf84f122f7fc not in train_train data.\n",
      "Cluster+Artist:  9 06e59c30-5e21-4318-96e8-7a5f7e309af1 not in train_train data.\n",
      "Cluster+Artist:  4 6efa29c6-9995-48e0-9eaf-3809464a39a7 not in train_train data.\n",
      "Cluster+Artist:  4 6efa29c6-9995-48e0-9eaf-3809464a39a7 not in train_train data.\n",
      "Cluster+Artist:  4 e024a3ca-c78e-459a-9a98-8029f49b5a5f not in train_train data.\n",
      "Cluster+Artist:  14 6acb932e-840d-47ac-8e0d-725ad8a6e52c not in train_train data.\n",
      "Cluster+Artist:  4 dd3f655b-7bf6-4fe1-9360-3de5d842e9d2 not in train_train data.\n",
      "Cluster+Artist:  14 350bce49-c21b-4137-b50a-0766ded07e4d not in train_train data.\n",
      "Cluster+Artist:  9 68ec1b08-3c2e-40b3-b0af-8f323743fdff not in train_train data.\n",
      "Cluster+Artist:  9 b1570544-93ab-4b2b-8398-131735394202 not in train_train data.\n",
      "Cluster+Artist:  9 f467181e-d5e0-4285-b47e-e853dcc89ee7 not in train_train data.\n",
      "Cluster+Artist:  6 2f360fd9-6440-4896-9f45-8156e8b0b204 not in train_train data.\n",
      "Cluster+Artist:  9 c860af48-e9c1-49cd-b441-8d18e9f522f2 not in train_train data.\n",
      "Cluster+Artist:  9 d0400f72-c2df-4cb3-81bd-72fa19aeaef8 not in train_train data.\n",
      "Cluster+Artist:  13 49cd96a6-42c3-44f6-ba2a-cd9301046b96 not in train_train data.\n",
      "Cluster+Artist:  2 28503ab7-8bf2-4666-a7bd-2644bfc7cb1d not in train_train data.\n",
      "Cluster+Artist:  2 534ee493-bfac-4575-a44a-0ae41e2c3fe4 not in train_train data.\n",
      "Cluster+Artist: "
     ]
    }
   ],
   "source": [
    "abs_error = 0\n",
    "\n",
    "cluster_artist_plays = {}\n",
    "\n",
    "for user, user_data in train_train_data.iteritems():\n",
    "    cluster_id = predict[user_pos_by_id[user]]\n",
    "    for artist, plays in user_data.iteritems():\n",
    "        if cluster_id not in cluster_artist_plays:\n",
    "            cluster_artist_plays[cluster_id] = {}\n",
    "        \n",
    "        if artist not in cluster_artist_plays[cluster_id]:\n",
    "            cluster_artist_plays[cluster_id][artist] = []\n",
    "        \n",
    "        cluster_artist_plays[cluster_id][artist].append(plays)\n",
    "\n",
    "print \"Finished setting up cluster author play dictionary, running test now\"\n",
    "\n",
    "# Precalculate the cluster-artist medians\n",
    "cluster_artist_medians = {}\n",
    "for cluster_id, cluster_data in cluster_artist_plays.iteritems():\n",
    "    artist_medians = {}\n",
    "    for artist, plays in cluster_data.iteritems():\n",
    "        artist_medians[artist] = np.median(plays)\n",
    "    cluster_artist_medians[cluster_id] = artist_medians\n",
    "\n",
    "for user, user_data in train_test_data.iteritems():\n",
    "    for artist, plays in user_data.iteritems():\n",
    "        cluster_id = predict[user_pos_by_id[user]]\n",
    "        \n",
    "        if artist in cluster_artist_plays[cluster_id]:\n",
    "            abs_error += abs(np.median(cluster_artist_plays[cluster_id][artist]) - plays)\n",
    "        else:\n",
    "            print \"Cluster+Artist: \", cluster_id, artist, \"not in train_train data.\"\n",
    "            abs_error += abs(0 - plays)\n",
    "            \n",
    "print \"MEAN ABSOLUTE ERROR %f\" % (abs_error / num_songs_estimating)"
   ]
  },
  {
   "cell_type": "markdown",
   "metadata": {},
   "source": [
    "# MEAN ABSOLUTE ERROR\n",
    "\n",
    "Global + Per-User (Given): 140.056850\n",
    "\n",
    "KMeans (10 clusters): 198.894616\n",
    "KMeans (20 clusters): "
   ]
  },
  {
   "cell_type": "markdown",
   "metadata": {},
   "source": [
    "## OUTPUT"
   ]
  },
  {
   "cell_type": "code",
   "execution_count": 30,
   "metadata": {
    "collapsed": true
   },
   "outputs": [],
   "source": [
    "# Compute the global median and per-user median.\n",
    "plays_array  = []\n",
    "user_medians = {}\n",
    "for user, user_data in train_data.iteritems():\n",
    "    user_plays = []\n",
    "    for artist, plays in user_data.iteritems():\n",
    "        plays_array.append(plays)\n",
    "        user_plays.append(plays)\n",
    "\n",
    "    user_medians[user] = np.median(np.array(user_plays))\n",
    "global_median = np.median(np.array(plays_array))\n",
    "\n",
    "# Write out test solutions.\n",
    "with open(test_file, 'r') as test_fh:\n",
    "    test_csv = csv.reader(test_fh, delimiter=',', quotechar='\"')\n",
    "    next(test_csv, None)\n",
    "\n",
    "    with open(soln_file, 'w') as soln_fh:\n",
    "        soln_csv = csv.writer(soln_fh,\n",
    "                              delimiter=',',\n",
    "                              quotechar='\"',\n",
    "                              quoting=csv.QUOTE_MINIMAL)\n",
    "        soln_csv.writerow(['Id', 'plays'])\n",
    "\n",
    "        for row in test_csv:\n",
    "            id     = row[0]\n",
    "            user   = row[1]\n",
    "            artist = row[2]\n",
    "\n",
    "            if user in user_medians:\n",
    "                soln_csv.writerow([id, user_medians[user]])\n",
    "            else:\n",
    "                print \"User\", id, \"not in training data.\"\n",
    "                soln_csv.writerow([id, global_median])\n",
    "                "
   ]
  },
  {
   "cell_type": "code",
   "execution_count": null,
   "metadata": {
    "collapsed": true
   },
   "outputs": [],
   "source": []
  },
  {
   "cell_type": "code",
   "execution_count": null,
   "metadata": {
    "collapsed": true
   },
   "outputs": [],
   "source": []
  },
  {
   "cell_type": "code",
   "execution_count": 6,
   "metadata": {
    "collapsed": false
   },
   "outputs": [],
   "source": [
    "artists = {}\n",
    "with open(artists_file, 'r') as af:\n",
    "    artists_csv = csv.reader(af, delimiter=',', quotechar='\"')\n",
    "    next(af)\n",
    "    for row in artists_csv:\n",
    "        artists[row[0]] = row[1]"
   ]
  },
  {
   "cell_type": "code",
   "execution_count": null,
   "metadata": {
    "collapsed": true
   },
   "outputs": [],
   "source": [
    "# RUN EVERYTHING FROM HERE. MAY BE ERRORS. TEXT ME WHEN THIS OCCURS. "
   ]
  },
  {
   "cell_type": "code",
   "execution_count": 5,
   "metadata": {
    "collapsed": false
   },
   "outputs": [],
   "source": [
    "testdf = pd.read_csv(test_file).drop('Id',1)\n",
    "traindf = pd.read_csv(train_file)"
   ]
  },
  {
   "cell_type": "code",
   "execution_count": 6,
   "metadata": {
    "collapsed": false
   },
   "outputs": [],
   "source": [
    "fulldf = traindf.append(testdf)"
   ]
  },
  {
   "cell_type": "code",
   "execution_count": 7,
   "metadata": {
    "collapsed": false
   },
   "outputs": [
    {
     "data": {
      "text/html": [
       "<div>\n",
       "<table border=\"1\" class=\"dataframe\">\n",
       "  <thead>\n",
       "    <tr style=\"text-align: right;\">\n",
       "      <th></th>\n",
       "      <th>user</th>\n",
       "      <th>sex</th>\n",
       "      <th>age</th>\n",
       "      <th>country</th>\n",
       "    </tr>\n",
       "  </thead>\n",
       "  <tbody>\n",
       "    <tr>\n",
       "      <th>0</th>\n",
       "      <td>fa40b43298ba3f8aa52e8e8863faf2e2171e0b5d</td>\n",
       "      <td>f</td>\n",
       "      <td>25</td>\n",
       "      <td>Sweden</td>\n",
       "    </tr>\n",
       "    <tr>\n",
       "      <th>1</th>\n",
       "      <td>5909125332c108365a26ccf0ee62636eee08215c</td>\n",
       "      <td>m</td>\n",
       "      <td>29</td>\n",
       "      <td>Iceland</td>\n",
       "    </tr>\n",
       "    <tr>\n",
       "      <th>2</th>\n",
       "      <td>d1867cbda35e0d48e9a8390d9f5e079c9d99ea96</td>\n",
       "      <td>m</td>\n",
       "      <td>30</td>\n",
       "      <td>United States</td>\n",
       "    </tr>\n",
       "    <tr>\n",
       "      <th>3</th>\n",
       "      <td>63268cce0d68127729890c1691f62d5be5abd87c</td>\n",
       "      <td>m</td>\n",
       "      <td>21</td>\n",
       "      <td>Germany</td>\n",
       "    </tr>\n",
       "    <tr>\n",
       "      <th>4</th>\n",
       "      <td>02871cd952d607ba69b64e2e107773012c708113</td>\n",
       "      <td>m</td>\n",
       "      <td>24</td>\n",
       "      <td>Netherlands</td>\n",
       "    </tr>\n",
       "  </tbody>\n",
       "</table>\n",
       "</div>"
      ],
      "text/plain": [
       "                                       user sex  age        country\n",
       "0  fa40b43298ba3f8aa52e8e8863faf2e2171e0b5d   f   25         Sweden\n",
       "1  5909125332c108365a26ccf0ee62636eee08215c   m   29        Iceland\n",
       "2  d1867cbda35e0d48e9a8390d9f5e079c9d99ea96   m   30  United States\n",
       "3  63268cce0d68127729890c1691f62d5be5abd87c   m   21        Germany\n",
       "4  02871cd952d607ba69b64e2e107773012c708113   m   24    Netherlands"
      ]
     },
     "execution_count": 7,
     "metadata": {},
     "output_type": "execute_result"
    }
   ],
   "source": [
    "profilesdf = pd.read_csv(profiles_file)\n",
    "profilesdf.head()"
   ]
  },
  {
   "cell_type": "code",
   "execution_count": 8,
   "metadata": {
    "collapsed": false
   },
   "outputs": [],
   "source": [
    "# add profile about the user\n",
    "mldf = traindf.merge(profilesdf)"
   ]
  },
  {
   "cell_type": "code",
   "execution_count": 9,
   "metadata": {
    "collapsed": false
   },
   "outputs": [],
   "source": [
    "# add mean plays per user\n",
    "mean_plays = mldf.groupby('user').plays.mean().reset_index()\n",
    "mean_plays.columns = ['user','mean_plays']\n",
    "mldf = mldf.merge(mean_plays)"
   ]
  },
  {
   "cell_type": "code",
   "execution_count": 10,
   "metadata": {
    "collapsed": true
   },
   "outputs": [],
   "source": [
    "# add mean plays per artist\n",
    "mean_plays_a = mldf.groupby('artist').plays.mean().reset_index()\n",
    "mean_plays_a.columns = ['artist','mean_plays_artist']\n",
    "mldf = mldf.merge(mean_plays_a)"
   ]
  },
  {
   "cell_type": "code",
   "execution_count": 12,
   "metadata": {
    "collapsed": false
   },
   "outputs": [],
   "source": [
    "# Create a seperate DF just for clustering. It will include the number of plays per artist, as well as demographics. \n",
    "udf = pd.DataFrame(train_data).transpose().reset_index()\n",
    "udf = udf.fillna(0)\n",
    "profilesdf.columns = ['index','sex','age','country']\n",
    "udf = udf.merge(profilesdf)\n",
    "# indicatorify sex\n",
    "udf['male'] = 1*(udf.sex=='m')\n",
    "udf['female'] = 1*(udf.sex=='f')\n",
    "del udf['sex']\n",
    "# add indicator column for countries with listens over 5000.\n",
    "country_counts = udf.groupby('country').index.count()\n",
    "countries_to_include = country_counts[country_counts>5000].index\n",
    "for c in countries_to_include:\n",
    "    udf['country_%s' % c] = 1*(udf.country == c)\n",
    "del udf['country']\n",
    "# set any ages outside of [5,115] range to the average of the rest\n",
    "age_mean=np.mean(udf[udf.age<115][udf.age>5].age)\n",
    "udf[udf.age>=115] = udf[udf.age>=115].assign(age = age_mean) \n",
    "udf[udf.age<=5] = udf[udf.age>=5].assign(age = age_mean) \n",
    "udf = udf.fillna(age_mean)"
   ]
  },
  {
   "cell_type": "code",
   "execution_count": 15,
   "metadata": {
    "collapsed": false
   },
   "outputs": [],
   "source": [
    "users = udf['index']\n",
    "del udf['index']\n",
    "# find user clusters  (minibatch is so much faster than regular batch kmeans)\n",
    "from sklearn.cluster import MiniBatchKMeans\n",
    "KM = MiniBatchKMeans(random_state=37)\n",
    "u_clusters = KM.fit_predict(udf)"
   ]
  },
  {
   "cell_type": "code",
   "execution_count": 20,
   "metadata": {
    "collapsed": false
   },
   "outputs": [],
   "source": [
    "# add user cluster as a column\n",
    "users_cluster = pd.DataFrame(u_clusters,users).reset_index()\n",
    "users_cluster.columns = ['user','user_cluster']\n",
    "mldf = mldf.merge(users_cluster)"
   ]
  },
  {
   "cell_type": "code",
   "execution_count": 21,
   "metadata": {
    "collapsed": false
   },
   "outputs": [],
   "source": [
    "# add user cluster as inidicator variables\n",
    "for cluster in mldf.user_cluster.unique():\n",
    "    mldf['user_cluster_%i' % cluster] = 1*(mldf.user_cluster == cluster)\n",
    "del mldf['user_cluster']"
   ]
  },
  {
   "cell_type": "code",
   "execution_count": 22,
   "metadata": {
    "collapsed": true
   },
   "outputs": [],
   "source": [
    "mldf['male'] = 1*(mldf.sex=='m')\n",
    "mldf['female'] = 1*(mldf.sex=='f')\n",
    "del mldf['sex']"
   ]
  },
  {
   "cell_type": "code",
   "execution_count": 23,
   "metadata": {
    "collapsed": false
   },
   "outputs": [],
   "source": [
    "# add indicator column for countries with listens over 5000.\n",
    "country_counts = mldf.groupby('country').user.count()\n",
    "countries_to_include = country_counts[country_counts>5000].index\n",
    "for c in countries_to_include:\n",
    "    mldf['country_%s' % c] = 1*(mldf.country == c)\n",
    "del mldf['country']"
   ]
  },
  {
   "cell_type": "code",
   "execution_count": 24,
   "metadata": {
    "collapsed": false
   },
   "outputs": [],
   "source": [
    "# set any ages outside of [5,115] range to the average of the rest\n",
    "age_mean=np.mean(mldf[mldf.age<115][mldf.age>5].age)\n",
    "mldf[mldf.age>=115] = mldf[mldf.age>=115].assign(age = age_mean) \n",
    "mldf[mldf.age<=5] = mldf[mldf.age>=5].assign(age = age_mean) "
   ]
  },
  {
   "cell_type": "code",
   "execution_count": 25,
   "metadata": {
    "collapsed": false
   },
   "outputs": [],
   "source": [
    "# add genres as well\n",
    "artists_genres = pd.read_csv('artists_tagged.csv')\n",
    "mldf = mldf.merge(artists_genres)"
   ]
  },
  {
   "cell_type": "code",
   "execution_count": null,
   "metadata": {
    "collapsed": false
   },
   "outputs": [],
   "source": [
    "from sklearn.cross_validation import train_test_split\n",
    "regressiondf = mldf\n",
    "# get rid of features not to be used for regression\n",
    "del regressiondf['user']\n",
    "del regressiondf['artist']\n",
    "del regressiondf['country']\n",
    "regressiondf = regressiondf.fillna(0)\n",
    "traindf_1, validdf_1 = train_test_split(regressiondf,test_size = 0.3)"
   ]
  },
  {
   "cell_type": "code",
   "execution_count": 413,
   "metadata": {
    "collapsed": false
   },
   "outputs": [],
   "source": [
    "# get y test and train\n",
    "y_train = traindf_1.plays\n",
    "y_test = validdf_1.plays\n",
    "del traindf_1['plays']\n",
    "del validdf_1['plays']"
   ]
  },
  {
   "cell_type": "code",
   "execution_count": 418,
   "metadata": {
    "collapsed": false
   },
   "outputs": [
    {
     "data": {
      "text/plain": [
       "RandomForestRegressor(bootstrap=True, criterion='mse', max_depth=None,\n",
       "           max_features='auto', max_leaf_nodes=None, min_samples_leaf=1,\n",
       "           min_samples_split=2, min_weight_fraction_leaf=0.0,\n",
       "           n_estimators=10, n_jobs=1, oob_score=False, random_state=None,\n",
       "           verbose=0, warm_start=False)"
      ]
     },
     "execution_count": 418,
     "metadata": {},
     "output_type": "execute_result"
    }
   ],
   "source": [
    "# now plug in a model\n",
    "from sklearn.ensemble import RandomForestRegressor\n",
    "rf = RandomForestRegressor(n_estimators = 10)\n",
    "rf.fit(traindf_1,y_train)\n"
   ]
  },
  {
   "cell_type": "code",
   "execution_count": 420,
   "metadata": {
    "collapsed": false
   },
   "outputs": [
    {
     "ename": "NameError",
     "evalue": "name 'y_valid' is not defined",
     "output_type": "error",
     "traceback": [
      "\u001b[0;31m---------------------------------------------------------------------------\u001b[0m",
      "\u001b[0;31mNameError\u001b[0m                                 Traceback (most recent call last)",
      "\u001b[0;32m<ipython-input-420-04f5ca1e2ec0>\u001b[0m in \u001b[0;36m<module>\u001b[0;34m()\u001b[0m\n\u001b[1;32m      2\u001b[0m \u001b[0;34m\u001b[0m\u001b[0m\n\u001b[1;32m      3\u001b[0m \u001b[0;32mfrom\u001b[0m \u001b[0msklearn\u001b[0m\u001b[0;34m.\u001b[0m\u001b[0mmetrics\u001b[0m \u001b[0;32mimport\u001b[0m \u001b[0mmean_absolute_error\u001b[0m\u001b[0;34m\u001b[0m\u001b[0m\n\u001b[0;32m----> 4\u001b[0;31m \u001b[0;32mprint\u001b[0m \u001b[0mmean_absolute_error\u001b[0m\u001b[0;34m(\u001b[0m\u001b[0my_valid\u001b[0m\u001b[0;34m,\u001b[0m\u001b[0my_pred\u001b[0m\u001b[0;34m)\u001b[0m\u001b[0;34m\u001b[0m\u001b[0m\n\u001b[0m",
      "\u001b[0;31mNameError\u001b[0m: name 'y_valid' is not defined"
     ]
    }
   ],
   "source": [
    "y_pred = rf.predict(validdf_1)\n",
    "from sklearn.metrics import mean_absolute_error\n",
    "print mean_absolute_error(y_test,y_pred)"
   ]
  }
 ],
 "metadata": {
  "kernelspec": {
   "display_name": "Python 2",
   "language": "python",
   "name": "python2"
  },
  "language_info": {
   "codemirror_mode": {
    "name": "ipython",
    "version": 2
   },
   "file_extension": ".py",
   "mimetype": "text/x-python",
   "name": "python",
   "nbconvert_exporter": "python",
   "pygments_lexer": "ipython2",
   "version": "2.7.11"
  }
 },
 "nbformat": 4,
 "nbformat_minor": 0
}
