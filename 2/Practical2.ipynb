{
 "cells": [
  {
   "cell_type": "code",
   "execution_count": 1,
   "metadata": {
    "collapsed": false
   },
   "outputs": [],
   "source": [
    "%matplotlib inline\n",
    "# IMPORTS\n",
    "import os\n",
    "from collections import Counter\n",
    "try:\n",
    "    import xml.etree.cElementTree as ET\n",
    "except ImportError:\n",
    "    import xml.etree.ElementTree as ET\n",
    "import numpy as np\n",
    "\n",
    "from scipy import sparse\n",
    "from sklearn import svm\n",
    "from sklearn.neighbors import KNeighborsClassifier\n",
    "from sklearn.ensemble import RandomForestClassifier\n",
    "from sklearn.cross_validation import train_test_split\n",
    "from sklearn.linear_model import LogisticRegression\n",
    "from sklearn.gaussian_process import GaussianProcess\n",
    "#from sklearn.neural_network import MultilayerPerceptronClassifier\n",
    "\n",
    "import matplotlib.pyplot as plt\n",
    "\n",
    "TRAIN_DIR = \"train\"\n",
    "TEST_DIR = \"test\"\n",
    "\n",
    "call_set = set([])"
   ]
  },
  {
   "cell_type": "code",
   "execution_count": 2,
   "metadata": {
    "collapsed": true
   },
   "outputs": [],
   "source": [
    "# UTILITIES\n",
    "# these are the fifteen malware classes we're looking for\n",
    "malware_classes = [\"Agent\", \"AutoRun\", \"FraudLoad\", \"FraudPack\", \"Hupigon\", \"Krap\",\n",
    "           \"Lipler\", \"Magania\", \"None\", \"Poison\", \"Swizzor\", \"Tdss\",\n",
    "           \"VB\", \"Virut\", \"Zbot\"]\n",
    "\n",
    "# a function for writing predictions in the required format\n",
    "def write_predictions(predictions, ids, outfile):\n",
    "    \"\"\"\n",
    "    assumes len(predictions) == len(ids), and that predictions[i] is the\n",
    "    index of the predicted class with the malware_classes list above for \n",
    "    the executable corresponding to ids[i].\n",
    "    outfile will be overwritten\n",
    "    \"\"\"\n",
    "    with open(outfile,\"w+\") as f:\n",
    "        # write header\n",
    "        f.write(\"Id,Prediction\\n\")\n",
    "        for i, history_id in enumerate(ids):\n",
    "            f.write(\"%s,%d\\n\" % (history_id, predictions[i]))"
   ]
  },
  {
   "cell_type": "code",
   "execution_count": 3,
   "metadata": {
    "collapsed": true
   },
   "outputs": [],
   "source": [
    "def add_to_set(tree):\n",
    "    for el in tree.iter():\n",
    "        call = el.tag\n",
    "        call_set.add(call)"
   ]
  },
  {
   "cell_type": "code",
   "execution_count": 4,
   "metadata": {
    "collapsed": true
   },
   "outputs": [],
   "source": [
    "def create_data_matrix(start_index, end_index, direc=\"train\"):\n",
    "    X = None\n",
    "    classes = []\n",
    "    ids = [] \n",
    "    i = -1\n",
    "    for datafile in os.listdir(direc):\n",
    "        if datafile == '.DS_Store':\n",
    "            continue\n",
    "\n",
    "        i += 1\n",
    "        if i < start_index:\n",
    "            continue \n",
    "        if i >= end_index:\n",
    "            break\n",
    "\n",
    "        # extract id and true class (if available) from filename\n",
    "        id_str, clazz = datafile.split('.')[:2]\n",
    "        ids.append(id_str)\n",
    "        # add target class if this is training data\n",
    "        try:\n",
    "            classes.append(malware_classes.index(clazz))\n",
    "\n",
    "        except ValueError:\n",
    "            # we should only fail to find the label in our list of malware classes\n",
    "            # if this is test data, which always has an \"X\" label\n",
    "            assert clazz == \"X\"\n",
    "            classes.append(-1)\n",
    "\n",
    "        # parse file as an xml document\n",
    "        tree = ET.parse(os.path.join(direc,datafile))\n",
    "        add_to_set(tree)\n",
    "        this_row = call_feats(tree)\n",
    "        if X is None:\n",
    "            X = this_row \n",
    "        else:\n",
    "            X = np.vstack((X, this_row))\n",
    "\n",
    "    return X, np.array(classes), ids"
   ]
  },
  {
   "cell_type": "code",
   "execution_count": 5,
   "metadata": {
    "collapsed": false
   },
   "outputs": [
    {
     "name": "stdout",
     "output_type": "stream",
     "text": [
      "\n"
     ]
    }
   ],
   "source": [
    "s = ''\n",
    "for a_s in list(call_set):\n",
    "    s += \", 'sc_\" + a_s +\"'\"\n",
    "print s"
   ]
  },
  {
   "cell_type": "code",
   "execution_count": 6,
   "metadata": {
    "collapsed": true
   },
   "outputs": [],
   "source": [
    "good_calls = ['recv_socket', 'create_open_file', 'sleep', 'open_scmanager', 'load_driver', \n",
    "              'get_host_by_addr', 'create_interface', 'create_mutex', 'set_value', 'enum_items', \n",
    "              'get_computer_name', 'read_value', 'write_value', 'change_service_config', \n",
    "              'copy_file', 'exit_windows', 'connect_share', 'enum_modules', 'bind_socket', \n",
    "              'enum_keys', 'delete_value', 'enum_types', 'open_service', 'processes', \n",
    "              'add_share', 'create_socket', 'enum_user', 'dump_line', 'unload_driver', \n",
    "              'enum_values', 'thread', 'load_dll', 'create_window', 'read_section_names', \n",
    "              'com_create_instance', 'message', 'get_userinfo', 'get_file_attributes', 'find_file', \n",
    "              'open_file', 'get_username', 'create_service', 'query_value', 'create_file', \n",
    "              'move_file', 'open_key', 'send_socket', 'vm_write', 'delete_file', \n",
    "              'create_process_as_user', 'get_system_time', 'create_mailslot', 'com_createole_object', \n",
    "              'listen_socket', 'enum_share', 'open_mutex', 'vm_protect', 'all_section', \n",
    "              'vm_mapviewofsection', 'get_windows_directory', 'enum_processes', 'open_url', \n",
    "              'download_file', 'com_get_class_object', 'kill_process', 'load_image', 'delete_share', \n",
    "              'create_process', 'logon_as_user', 'get_system_directory', 'set_thread_context', \n",
    "              'create_process_nt', 'destroy_window', 'vm_allocate', 'enum_handles', 'connect_socket', \n",
    "              'set_file_time', 'start_service', 'create_thread_remote', 'show_window', 'open_process', \n",
    "              'impersonate_user', 'connect', 'enum_services', 'process', 'vm_read', 'check_for_debugger', \n",
    "              'query_keyinfo', 'delete_service', 'read_section', 'enum_window', 'set_system_time', \n",
    "              'add_netjob', 'ping', 'set_windows_hook', 'control_service', 'accept_socket', \n",
    "              'trimmed_bytes', 'download_file_to_cache', 'find_window', 'get_host_by_name', \n",
    "              'set_file_attributes', 'revert_to_self', 'create_key', 'create_thread', 'enum_subtypes', \n",
    "              'delete_key', 'create_directory', 'remove_directory', 'create_namedpipe']"
   ]
  },
  {
   "cell_type": "code",
   "execution_count": 7,
   "metadata": {
    "collapsed": true
   },
   "outputs": [],
   "source": [
    "other_features = ['Administrator', 'SYSTEM', 'NETZWERKDIENST', 'LOKALER DIENST', \n",
    "                  'SCM', 'InjectedCode', 'SvcHost', 'CreateProcess', 'BHOInstalled', 'DCOMService', 'AnalysisTarget',\n",
    "                 'NormalTermination', 'Unknown', 'KilledByWindowsLoader', 'Timeout']"
   ]
  },
  {
   "cell_type": "code",
   "execution_count": 8,
   "metadata": {
    "collapsed": true
   },
   "outputs": [],
   "source": [
    "first_calls = ['fc_recv_socket', 'fc_create_open_file', 'fc_sleep', 'fc_open_scmanager', 'fc_load_driver', 'fc_get_host_by_addr', 'fc_create_interface', 'fc_create_mutex', 'fc_set_value', 'fc_enum_items', 'fc_get_computer_name', 'fc_read_value', 'fc_write_value', 'fc_change_service_config', 'fc_copy_file', 'fc_exit_windows', 'fc_connect_share', 'fc_enum_modules', 'fc_bind_socket', 'fc_enum_keys', 'fc_delete_value', 'fc_enum_types', 'fc_open_service', 'fc_processes', 'fc_add_share', 'fc_create_socket', 'fc_enum_user', 'fc_dump_line', 'fc_unload_driver', 'fc_enum_values', 'fc_thread', 'fc_load_dll', 'fc_create_window', 'fc_read_section_names', 'fc_com_create_instance', 'fc_message', 'fc_get_userinfo', 'fc_get_file_attributes', 'fc_find_file', 'fc_open_file', 'fc_get_username', 'fc_create_service', 'fc_query_value', 'fc_create_file', 'fc_move_file', 'fc_open_key', 'fc_send_socket', 'fc_vm_write', 'fc_delete_file', 'fc_create_process_as_user', 'fc_get_system_time', 'fc_create_mailslot', 'fc_com_createole_object', 'fc_listen_socket', 'fc_enum_share', 'fc_open_mutex', 'fc_vm_protect', 'fc_all_section', 'fc_vm_mapviewofsection', 'fc_get_windows_directory', 'fc_enum_processes', 'fc_open_url', 'fc_download_file', 'fc_com_get_class_object', 'fc_kill_process', 'fc_load_image', 'fc_delete_share', 'fc_create_process', 'fc_logon_as_user', 'fc_get_system_directory', 'fc_set_thread_context', 'fc_create_process_nt', 'fc_destroy_window', 'fc_vm_allocate', 'fc_enum_handles', 'fc_connect_socket', 'fc_set_file_time', 'fc_start_service', 'fc_create_thread_remote', 'fc_show_window', 'fc_open_process', 'fc_impersonate_user', 'fc_connect', 'fc_enum_services', 'fc_process', 'fc_vm_read', 'fc_check_for_debugger', 'fc_query_keyinfo', 'fc_delete_service', 'fc_read_section', 'fc_enum_window', 'fc_set_system_time', 'fc_add_netjob', 'fc_ping', 'fc_set_windows_hook', 'fc_control_service', 'fc_accept_socket', 'fc_trimmed_bytes', 'fc_download_file_to_cache', 'fc_find_window', 'fc_get_host_by_name', 'fc_set_file_attributes', 'fc_revert_to_self', 'fc_create_key', 'fc_create_thread', 'fc_enum_subtypes', 'fc_delete_key', 'fc_create_directory', 'fc_remove_directory', 'fc_create_namedpipe']"
   ]
  },
  {
   "cell_type": "code",
   "execution_count": 9,
   "metadata": {
    "collapsed": true
   },
   "outputs": [],
   "source": [
    "second_calls = ['sc_recv_socket', 'sc_create_open_file', 'sc_sleep', 'sc_open_scmanager', 'sc_load_driver', 'sc_get_host_by_addr', 'sc_create_interface', 'sc_create_mutex', 'sc_set_value', 'sc_enum_items', 'sc_get_computer_name', 'sc_read_value', 'sc_write_value', 'sc_change_service_config', 'sc_copy_file', 'sc_exit_windows', 'sc_connect_share', 'sc_enum_modules', 'sc_bind_socket', 'sc_enum_keys', 'sc_delete_value', 'sc_enum_types', 'sc_open_service', 'sc_processes', 'sc_add_share', 'sc_create_socket', 'sc_enum_user', 'sc_dump_line', 'sc_unload_driver', 'sc_enum_values', 'sc_thread', 'sc_load_dll', 'sc_create_window', 'sc_read_section_names', 'sc_com_create_instance', 'sc_message', 'sc_get_userinfo', 'sc_get_file_attributes', 'sc_find_file', 'sc_open_file', 'sc_get_username', 'sc_create_service', 'sc_query_value', 'sc_create_file', 'sc_move_file', 'sc_open_key', 'sc_send_socket', 'sc_vm_write', 'sc_delete_file', 'sc_create_process_as_user', 'sc_get_system_time', 'sc_create_mailslot', 'sc_com_createole_object', 'sc_listen_socket', 'sc_enum_share', 'sc_open_mutex', 'sc_vm_protect', 'sc_all_section', 'sc_vm_mapviewofsection', 'sc_get_windows_directory', 'sc_enum_processes', 'sc_open_url', 'sc_download_file', 'sc_com_get_class_object', 'sc_kill_process', 'sc_load_image', 'sc_delete_share', 'sc_create_process', 'sc_logon_as_user', 'sc_get_system_directory', 'sc_set_thread_context', 'sc_create_process_nt', 'sc_destroy_window', 'sc_vm_allocate', 'sc_enum_handles', 'sc_connect_socket', 'sc_set_file_time', 'sc_start_service', 'sc_create_thread_remote', 'sc_show_window', 'sc_open_process', 'sc_impersonate_user', 'sc_connect', 'sc_enum_services', 'sc_process', 'sc_vm_read', 'sc_check_for_debugger', 'sc_query_keyinfo', 'sc_delete_service', 'sc_read_section', 'sc_enum_window', 'sc_set_system_time', 'sc_add_netjob', 'sc_ping', 'sc_set_windows_hook', 'sc_control_service', 'sc_accept_socket', 'sc_trimmed_bytes', 'sc_download_file_to_cache', 'sc_find_window', 'sc_get_host_by_name', 'sc_set_file_attributes', 'sc_revert_to_self', 'sc_create_key', 'sc_create_thread', 'sc_enum_subtypes', 'sc_delete_key', 'sc_create_directory', 'sc_remove_directory', 'sc_create_namedpipe']"
   ]
  },
  {
   "cell_type": "code",
   "execution_count": 10,
   "metadata": {
    "collapsed": true
   },
   "outputs": [],
   "source": [
    "call_pairs = np.array(map(lambda call_one: map(lambda call_two: \"fc_\" + call_one + \"_sc_\" + call_two, good_calls), good_calls)).flatten().tolist()"
   ]
  },
  {
   "cell_type": "code",
   "execution_count": 11,
   "metadata": {
    "collapsed": true
   },
   "outputs": [],
   "source": [
    "all_features = good_calls + other_features + first_calls + second_calls# + call_pairs"
   ]
  },
  {
   "cell_type": "code",
   "execution_count": 12,
   "metadata": {
    "collapsed": true
   },
   "outputs": [],
   "source": [
    "def add_count(feature_dict, feature_name):\n",
    "    if feature_name not in feature_dict:\n",
    "        feature_dict[feature_name] = 1\n",
    "    else:\n",
    "        feature_dict[feature_name] += 1\n",
    "    return feature_dict"
   ]
  },
  {
   "cell_type": "code",
   "execution_count": 13,
   "metadata": {
    "collapsed": false
   },
   "outputs": [],
   "source": [
    "def call_feats(tree):\n",
    "    \n",
    "#     bigram_calls = []\n",
    "#     for a_call in good_calls:\n",
    "#         for b_call in good_calls:\n",
    "#             bigram_calls.append(a_call + '_' + b_call)\n",
    "            \n",
    "#     combined_calls = good_calls + bigram_calls\n",
    "\n",
    "    # Add calls\n",
    "    feature_dict = {}\n",
    "    last_call='start'\n",
    "    for el in tree.iter():\n",
    "        call = el.tag\n",
    "        feature_dict = add_count(feature_dict, call)\n",
    "            \n",
    "    # Add other features\n",
    "    root = tree.getroot()\n",
    "    for process in root.findall('process[@username]'):\n",
    "        username = process.attrib['username']\n",
    "        feature_dict = add_count(feature_dict, username)\n",
    "    for process in root.findall('process[@startreason]'):\n",
    "        startreason = process.attrib['startreason']\n",
    "        feature_dict = add_count(feature_dict, startreason)\n",
    "    for process in root.findall('process[@terminationreason]'):\n",
    "        terminationreason = process.attrib['terminationreason']\n",
    "        feature_dict = add_count(feature_dict, terminationreason)\n",
    "    j = 0\n",
    "    # First non-'load_image' or 'load_dll' call\n",
    "    for call in root.findall('process/thread/all_section/'):\n",
    "        name = call.tag\n",
    "        if (name != 'load_image') and (name != 'load_dll'): \n",
    "            j += 1\n",
    "            if j == 1:\n",
    "                first_call = 'fc_' + name\n",
    "                feature_dict = add_count(feature_dict, first_call)\n",
    "            if j == 2:\n",
    "                second_call = 'sc_' + name\n",
    "                feature_dict = add_count(feature_dict, second_call)\n",
    "                break\n",
    "\n",
    "    # Attempt to add call-pairs, which, in theory, help account for sequencing of calls.\n",
    "    # This perhaps should be extended to call-triplets, etc.\n",
    "#     for idx, call in enumerate(root.findall('process/thread/all_section/')):\n",
    "#         if idx == 1:\n",
    "#             second_call = call.tag\n",
    "#         elif idx >= 2:\n",
    "#             first_call = second_call\n",
    "#             second_call = call.tag\n",
    "#             call_pair = \"fc_\" + first_call + \"_sc_\" + second_call\n",
    "#             feature_dict = add_count(feature_dict, call_pair)\n",
    "                                \n",
    "#         # Bigram Calls\n",
    "#         combo = last_call + '_' + call\n",
    "#         if combo not in call_counter:\n",
    "#             call_counter[combo] = 1\n",
    "#         #else:\n",
    "#         #    call_counter[combo] += 1\n",
    "#         last_call = call\n",
    "            \n",
    "    call_feat_array = np.zeros(len(all_features))\n",
    "    for i in range(len(all_features)):\n",
    "        call = all_features[i]\n",
    "        call_feat_array[i] = 0\n",
    "        if call in feature_dict:\n",
    "            call_feat_array[i] = feature_dict[call]\n",
    "\n",
    "    return call_feat_array"
   ]
  },
  {
   "cell_type": "markdown",
   "metadata": {},
   "source": [
    "## Import the data"
   ]
  },
  {
   "cell_type": "code",
   "execution_count": 14,
   "metadata": {
    "collapsed": false
   },
   "outputs": [],
   "source": [
    "# TRAINING DATA\n",
    "X_train_all, t_train_all, train_all_ids = create_data_matrix(0, 3086, TRAIN_DIR)\n",
    "X_train, X_valid, t_train, t_valid = train_test_split(X_train_all, t_train_all, test_size=0.20, random_state=37)"
   ]
  },
  {
   "cell_type": "code",
   "execution_count": 15,
   "metadata": {
    "collapsed": false
   },
   "outputs": [],
   "source": [
    "# TESTING DATA\n",
    "X_test_all, t_test_all, test_all_ids = create_data_matrix(0, 3724, TEST_DIR)"
   ]
  },
  {
   "cell_type": "markdown",
   "metadata": {},
   "source": [
    "## Exploratory Data Analysis"
   ]
  },
  {
   "cell_type": "code",
   "execution_count": 16,
   "metadata": {
    "collapsed": false
   },
   "outputs": [
    {
     "name": "stdout",
     "output_type": "stream",
     "text": [
      "---------\n",
      "0 create_thread\n",
      "1 vm_protect\n",
      "---------\n",
      "0 check_for_debugger\n",
      "1 get_system_directory\n",
      "---------\n",
      "0 check_for_debugger\n",
      "1 get_system_directory\n",
      "---------\n",
      "0 vm_protect\n",
      "1 vm_protect\n",
      "---------\n",
      "0 get_file_attributes\n",
      "---------\n",
      "0 open_file\n",
      "1 check_for_debugger\n",
      "---------\n",
      "0 check_for_debugger\n",
      "1 get_system_directory\n",
      "---------\n",
      "0 create_thread\n",
      "1 check_for_debugger\n",
      "---------\n",
      "0 open_file\n",
      "1 check_for_debugger\n",
      "Set([])\n"
     ]
    },
    {
     "name": "stderr",
     "output_type": "stream",
     "text": [
      "/usr/local/lib/python2.7/site-packages/ipykernel/__main__.py:2: DeprecationWarning: the sets module is deprecated\n",
      "  from ipykernel import kernelapp as app\n"
     ]
    }
   ],
   "source": [
    "# Sandbox\n",
    "from sets import Set\n",
    "i = -1\n",
    "terminationreasons = Set([])\n",
    "\n",
    "for datafile in os.listdir(TRAIN_DIR):\n",
    "    \n",
    "    if datafile == '.DS_Store':\n",
    "        continue\n",
    "\n",
    "    # extract id and true class (if available) from filename\n",
    "    id_str, clazz = datafile.split('.')[:2]\n",
    "\n",
    "    i += 1\n",
    "    if i < 1:\n",
    "        continue \n",
    "    if i >= 10:\n",
    "        break\n",
    "    print '---------'\n",
    "    tree = ET.parse(os.path.join(TRAIN_DIR,datafile))\n",
    "    root = tree.getroot()\n",
    "    #for child in root.getchildren():\n",
    "    #    print child.tag\n",
    "    j = 0\n",
    "    for call in root.findall('process/thread/all_section/'):\n",
    "        #print thread.get(1).tag\n",
    "        name = call.tag\n",
    "        if (name != 'load_image') and (name != 'load_dll'):\n",
    "            print j, name\n",
    "            j += 1\n",
    "            if j > 1:\n",
    "                break\n",
    "#        for child in thread.getchildren():\n",
    "#            print child.tag\n",
    "            #break\n",
    "        #terminationreasons.add(process.attrib['terminationreason'])\n",
    "        #print time(process.attrib['terminationtime']) - time(process.attrib['starttime'])\n",
    "        #print process.attrib\n",
    "#        for username in process.findall('username'):\n",
    "#            print username.attrib\n",
    "        #sername = child.find('username')\n",
    "#        print process.attrib['username'] == 'Administrator'\n",
    "        #print process.attrib['username'] == 'SYSTEM'\n",
    "    \n",
    "#     # parse file as an xml document\n",
    "#     tree = ET.parse(os.path.join(direc,datafile))\n",
    "#     add_to_set(tree)\n",
    "#     this_row = call_feats(tree)\n",
    "#     if X is None:\n",
    "#         X = this_row \n",
    "#     else:\n",
    "#         X = np.vstack((X, this_row))\n",
    "print terminationreasons"
   ]
  },
  {
   "cell_type": "code",
   "execution_count": 17,
   "metadata": {
    "collapsed": false
   },
   "outputs": [
    {
     "data": {
      "image/png": "[encoded data removed]",
      "text/plain": [
       "<matplotlib.figure.Figure at 0x107a651d0>"
      ]
     },
     "metadata": {},
     "output_type": "display_data"
    }
   ],
   "source": [
    "fig = plt.figure(figsize=(10,5))\n",
    "ax = fig.add_subplot(111)\n",
    "ax.hist(t_train,bins = range(len(malware_classes)+1))\n",
    "ax.set_xticklabels(malware_classes,rotation = 40)\n",
    "ax.set_xticks(.5 + np.arange(len(malware_classes)))\n",
    "ax.set_yscale('log')\n",
    "ax.set_ylabel('log(frequency)')\n",
    "plt.title('Distribution of Malware Classes (in training data)')\n",
    "plt.show()"
   ]
  },
  {
   "cell_type": "markdown",
   "metadata": {},
   "source": [
    "## Test the models"
   ]
  },
  {
   "cell_type": "code",
   "execution_count": 43,
   "metadata": {
    "collapsed": true
   },
   "outputs": [],
   "source": [
    "def plot_misclassified(model):\n",
    "    ## take a look at the classes from which our misclassifieds came from\n",
    "    misclassified_indices = np.nonzero(1*(model.predict(X_valid) != t_valid))[0]\n",
    "    fig = plt.figure(figsize=(10,5))\n",
    "    ax = fig.add_subplot(111)\n",
    "    ax.hist(t_valid,bins = range(len(malware_classes)+1))\n",
    "    ax.hist(t_valid[misclassified_indices],bins = range(len(malware_classes)+1), color='red')\n",
    "    ax.set_xticklabels(malware_classes,rotation = 40)\n",
    "    ax.set_xticks(.5 + np.arange(len(malware_classes)))\n",
    "\n",
    "    ax.set_ylabel('frequency')\n",
    "    ax.set_yscale('log')\n",
    "    plt.title('Distribution of misclassified classes (in validation data)')\n",
    "    plt.show()"
   ]
  },
  {
   "cell_type": "code",
   "execution_count": 19,
   "metadata": {
    "collapsed": false
   },
   "outputs": [
    {
     "name": "stdout",
     "output_type": "stream",
     "text": [
      "SVM\n",
      "Score of validation set: 0.822006\n"
     ]
    }
   ],
   "source": [
    "# Try SVM\n",
    "clf = svm.SVC(kernel='poly')\n",
    "clf.fit(X_train, t_train)\n",
    "print \"SVM\"\n",
    "print \"Score of validation set: %f\" % clf.score(X_valid, t_valid)"
   ]
  },
  {
   "cell_type": "code",
   "execution_count": 45,
   "metadata": {
    "collapsed": false
   },
   "outputs": [
    {
     "data": {
      "image/png": "[encoded data removed]",
      "text/plain": [
       "<matplotlib.figure.Figure at 0x107bdf990>"
      ]
     },
     "metadata": {},
     "output_type": "display_data"
    }
   ],
   "source": [
    "plot_misclassified(clf)"
   ]
  },
  {
   "cell_type": "markdown",
   "metadata": {},
   "source": [
    "### Random Forests"
   ]
  },
  {
   "cell_type": "code",
   "execution_count": 21,
   "metadata": {
    "collapsed": false
   },
   "outputs": [
    {
     "name": "stdout",
     "output_type": "stream",
     "text": [
      "Random Forests\n",
      "For n = 1, score was: 0.846278\n",
      "For n = 5, score was: 0.875405\n",
      "For n = 7, score was: 0.880259\n",
      "For n = 8, score was: 0.878641\n",
      "For n = 9, score was: 0.875405\n",
      "For n = 10, score was: 0.875405\n",
      "For n = 11, score was: 0.885113\n",
      "For n = 12, score was: 0.877023\n",
      "For n = 13, score was: 0.877023\n",
      "For n = 14, score was: 0.883495\n",
      "For n = 15, score was: 0.888350\n",
      "For n = 18, score was: 0.878641\n",
      "For n = 20, score was: 0.880259\n",
      "For n = 22, score was: 0.883495\n",
      "For n = 25, score was: 0.883495\n",
      "For n = 27, score was: 0.885113\n",
      "For n = 30, score was: 0.889968\n",
      "For n = 35, score was: 0.885113\n",
      "For n = 40, score was: 0.886731\n",
      "For n = 50, score was: 0.881877\n",
      "For n = 100, score was: 0.881877\n",
      "For n = 200, score was: 0.885113\n"
     ]
    }
   ],
   "source": [
    "# Random Forest Classifier\n",
    "print \"Random Forests\"\n",
    "ns = [1,5,7,8,9,10,11,12,13,14,15,18,20,22,25,27,30,35,40,50,100,200]\n",
    "for n in ns:\n",
    "    rf = RandomForestClassifier(n_estimators=n, random_state=37)\n",
    "    rf.fit(X_train, t_train)\n",
    "    print \"For n = %d, score was: %f\" % (n, rf.score(X_valid, t_valid))"
   ]
  },
  {
   "cell_type": "markdown",
   "metadata": {},
   "source": [
    "## Metrics\n",
    "\n",
    "### First Call\n",
    "\n",
    "KAGGLE - 0.82263\n",
    "\n",
    "### Second Call\n",
    "n_estimators=30, min_samples_split=1, random_state=37 <br />\n",
    "Score was: 0.889968 <br />\n",
    "KAGGLE - 0.82000"
   ]
  },
  {
   "cell_type": "code",
   "execution_count": 34,
   "metadata": {
    "collapsed": false
   },
   "outputs": [
    {
     "name": "stdout",
     "output_type": "stream",
     "text": [
      "Score was: 0.889968\n"
     ]
    }
   ],
   "source": [
    "rf = RandomForestClassifier(n_estimators=30, min_samples_split=1, random_state=37)\n",
    "rf.fit(X_train, t_train)\n",
    "print \"Score was: %f\" % (rf.score(X_valid, t_valid))"
   ]
  },
  {
   "cell_type": "code",
   "execution_count": 44,
   "metadata": {
    "collapsed": false
   },
   "outputs": [
    {
     "data": {
      "image/png": "[encoded data removed]",
      "text/plain": [
       "<matplotlib.figure.Figure at 0x10964ccd0>"
      ]
     },
     "metadata": {},
     "output_type": "display_data"
    }
   ],
   "source": [
    "plot_misclassified(rf)"
   ]
  },
  {
   "cell_type": "markdown",
   "metadata": {},
   "source": [
    "### Neural Network"
   ]
  },
  {
   "cell_type": "code",
   "execution_count": 24,
   "metadata": {
    "collapsed": false
   },
   "outputs": [],
   "source": [
    "# mlp = MLPClassifier(algorithm='l-bfgs', alpha=1e-5, hidden_layer_sizes=(5, 2), random_state=1)\n",
    "# mlp.fit(X_train, t_train)\n",
    "# print \"Score was: %f\" % (mlp.score(X_valid, t_valid))"
   ]
  },
  {
   "cell_type": "markdown",
   "metadata": {},
   "source": [
    "### Logisitic Regression"
   ]
  },
  {
   "cell_type": "code",
   "execution_count": 25,
   "metadata": {
    "collapsed": false
   },
   "outputs": [
    {
     "name": "stdout",
     "output_type": "stream",
     "text": [
      "Score was: 0.855987\n"
     ]
    }
   ],
   "source": [
    "lr = LogisticRegression(penalty='l2',solver='newton-cg',max_iter=500)\n",
    "lr.fit(X_train, t_train)\n",
    "print \"Score was: %f\" % (lr.score(X_valid, t_valid))"
   ]
  },
  {
   "cell_type": "code",
   "execution_count": 26,
   "metadata": {
    "collapsed": false
   },
   "outputs": [
    {
     "name": "stdout",
     "output_type": "stream",
     "text": [
      "Score was: 0.872168\n"
     ]
    }
   ],
   "source": [
    "lr = LogisticRegression(penalty='l1')\n",
    "lr.fit(X_train, t_train)\n",
    "print \"Score was: %f\" % (lr.score(X_valid, t_valid))"
   ]
  },
  {
   "cell_type": "markdown",
   "metadata": {},
   "source": [
    "### Gaussian Process"
   ]
  },
  {
   "cell_type": "code",
   "execution_count": 27,
   "metadata": {
    "collapsed": false
   },
   "outputs": [
    {
     "ename": "Exception",
     "evalue": "Multiple input features cannot have the same target value.",
     "output_type": "error",
     "traceback": [
      "\u001b[0;31m---------------------------------------------------------------------------\u001b[0m",
      "\u001b[0;31mException\u001b[0m                                 Traceback (most recent call last)",
      "\u001b[0;32m<ipython-input-27-2735c4860ab1>\u001b[0m in \u001b[0;36m<module>\u001b[0;34m()\u001b[0m\n\u001b[1;32m      1\u001b[0m \u001b[0mgp\u001b[0m \u001b[0;34m=\u001b[0m \u001b[0mGaussianProcess\u001b[0m\u001b[0;34m(\u001b[0m\u001b[0;34m)\u001b[0m\u001b[0;31m#theta0=0.1, thetaL=.001, thetaU=1.)\u001b[0m\u001b[0;34m\u001b[0m\u001b[0m\n\u001b[0;32m----> 2\u001b[0;31m \u001b[0mgp\u001b[0m\u001b[0;34m.\u001b[0m\u001b[0mfit\u001b[0m\u001b[0;34m(\u001b[0m\u001b[0mX_train\u001b[0m\u001b[0;34m,\u001b[0m \u001b[0mt_train\u001b[0m\u001b[0;34m)\u001b[0m\u001b[0;34m\u001b[0m\u001b[0m\n\u001b[0m\u001b[1;32m      3\u001b[0m \u001b[0;32mprint\u001b[0m \u001b[0;34m\"Score was: %f\"\u001b[0m \u001b[0;34m%\u001b[0m \u001b[0;34m(\u001b[0m\u001b[0mgp\u001b[0m\u001b[0;34m.\u001b[0m\u001b[0mscore\u001b[0m\u001b[0;34m(\u001b[0m\u001b[0mX_valid\u001b[0m\u001b[0;34m,\u001b[0m \u001b[0mt_valid\u001b[0m\u001b[0;34m)\u001b[0m\u001b[0;34m)\u001b[0m\u001b[0;34m\u001b[0m\u001b[0m\n",
      "\u001b[0;32m/usr/local/lib/python2.7/site-packages/sklearn/gaussian_process/gaussian_process.pyc\u001b[0m in \u001b[0;36mfit\u001b[0;34m(self, X, y)\u001b[0m\n\u001b[1;32m    300\u001b[0m         if (np.min(np.sum(D, axis=1)) == 0.\n\u001b[1;32m    301\u001b[0m                 and self.corr != correlation.pure_nugget):\n\u001b[0;32m--> 302\u001b[0;31m             raise Exception(\"Multiple input features cannot have the same\"\n\u001b[0m\u001b[1;32m    303\u001b[0m                             \" target value.\")\n\u001b[1;32m    304\u001b[0m \u001b[0;34m\u001b[0m\u001b[0m\n",
      "\u001b[0;31mException\u001b[0m: Multiple input features cannot have the same target value."
     ]
    }
   ],
   "source": [
    "gp = GaussianProcess()#theta0=0.1, thetaL=.001, thetaU=1.)\n",
    "gp.fit(X_train, t_train)\n",
    "print \"Score was: %f\" % (gp.score(X_valid, t_valid))"
   ]
  },
  {
   "cell_type": "code",
   "execution_count": null,
   "metadata": {
    "collapsed": false
   },
   "outputs": [],
   "source": [
    "from sklearn.naive_bayes import GaussianNB\n",
    "clf = GaussianNB()\n",
    "clf.fit(X_train, t_train)\n",
    "print \"Score was: %f\" % (clf.score(X_valid, t_valid))"
   ]
  },
  {
   "cell_type": "markdown",
   "metadata": {},
   "source": [
    "### KNC"
   ]
  },
  {
   "cell_type": "code",
   "execution_count": null,
   "metadata": {
    "collapsed": false
   },
   "outputs": [],
   "source": [
    "# Try KNeighborsClassifier\n",
    "ns = [1,2,3,4,5,6,7,8,10,20,25,30,50,100,200]\n",
    "kneighborsscores = []\n",
    "print \"KNeighborsClassifier\"\n",
    "for n in ns:\n",
    "    nn = KNeighborsClassifier(n_neighbors=n, weights='distance')\n",
    "    nn.fit(X_train, t_train)\n",
    "    score = nn.score(X_valid, t_valid)\n",
    "    kneighborsscores.append(score)\n",
    "    print \"For n = %d, score was: %f\" % (n, score)"
   ]
  },
  {
   "cell_type": "code",
   "execution_count": null,
   "metadata": {
    "collapsed": false
   },
   "outputs": [],
   "source": [
    "kneighborsscores2 = []\n",
    "nn = KNeighborsClassifier(n_neighbors=6, weights='distance')\n",
    "nn.fit(X_train, t_train)\n",
    "score = nn.score(X_valid, t_valid)\n",
    "kneighborsscores2.append(score)\n",
    "print \"Score was: %f\" % (score)"
   ]
  },
  {
   "cell_type": "code",
   "execution_count": null,
   "metadata": {
    "collapsed": false
   },
   "outputs": [],
   "source": [
    "plot_misclassified(nn)"
   ]
  },
  {
   "cell_type": "code",
   "execution_count": null,
   "metadata": {
    "collapsed": false
   },
   "outputs": [],
   "source": [
    "kneighborsscores2 = []\n",
    "nn = KNeighborsClassifier(n_neighbors=6, weights='uniform')\n",
    "nn.fit(X_train, t_train)\n",
    "score = nn.score(X_valid, t_valid)\n",
    "kneighborsscores2.append(score)\n",
    "print \"Score was: %f\" % (score)"
   ]
  },
  {
   "cell_type": "code",
   "execution_count": null,
   "metadata": {
    "collapsed": false
   },
   "outputs": [],
   "source": [
    "from sklearn.neighbors import RadiusNeighborsClassifier\n",
    "rnc = RadiusNeighborsClassifier(radius=6,outlier_label=8, p=2)\n",
    "rnc.fit(X_train, t_train)\n",
    "print \"Score was: %f\" % (rnc.score(X_valid, t_valid))"
   ]
  },
  {
   "cell_type": "markdown",
   "metadata": {},
   "source": [
    "## Generate Predictions"
   ]
  },
  {
   "cell_type": "code",
   "execution_count": null,
   "metadata": {
    "collapsed": true
   },
   "outputs": [],
   "source": [
    "# # Generate predictions on test set for the best model\n",
    "\n",
    "# nn = KNeighborsClassifier(n_neighbors=6, weights='distance', p=1)\n",
    "# nn.fit(X_train_all, t_train_all)\n",
    "# test_predictions = nn.predict(X_test_all)"
   ]
  },
  {
   "cell_type": "code",
   "execution_count": null,
   "metadata": {
    "collapsed": true
   },
   "outputs": [],
   "source": [
    "rf = RandomForestClassifier(n_estimators=30, min_samples_split=1)\n",
    "rf.fit(X_train_all, t_train_all)\n",
    "test_predictions = rf.predict(X_test_all)"
   ]
  },
  {
   "cell_type": "code",
   "execution_count": null,
   "metadata": {
    "collapsed": false
   },
   "outputs": [],
   "source": [
    "def write_to_file(filename, ids, predictions):\n",
    "    zips = zip(ids, predictions)\n",
    "    with open(filename, \"w\") as f:\n",
    "        f.write(\"Id,Prediction\\n\")\n",
    "        for i,p in enumerate(zips):\n",
    "            f.write(str(p[0]) + \",\" + str(p[1]) + \"\\n\")"
   ]
  },
  {
   "cell_type": "code",
   "execution_count": null,
   "metadata": {
    "collapsed": true
   },
   "outputs": [],
   "source": [
    "write_to_file(\"prediction.csv\", test_all_ids, test_predictions)"
   ]
  },
  {
   "cell_type": "code",
   "execution_count": null,
   "metadata": {
    "collapsed": true
   },
   "outputs": [],
   "source": []
  }
 ],
 "metadata": {
  "kernelspec": {
   "display_name": "Python 2",
   "language": "python",
   "name": "python2"
  },
  "language_info": {
   "codemirror_mode": {
    "name": "ipython",
    "version": 2
   },
   "file_extension": ".py",
   "mimetype": "text/x-python",
   "name": "python",
   "nbconvert_exporter": "python",
   "pygments_lexer": "ipython2",
   "version": "2.7.11"
  }
 },
 "nbformat": 4,
 "nbformat_minor": 0
}
